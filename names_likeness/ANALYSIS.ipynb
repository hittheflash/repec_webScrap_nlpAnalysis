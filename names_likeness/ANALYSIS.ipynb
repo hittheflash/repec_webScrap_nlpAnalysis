{
 "cells": [
  {
   "cell_type": "code",
   "execution_count": 6,
   "metadata": {},
   "outputs": [],
   "source": [
    "import pandas as pd\n",
    "import numpy as np\n",
    "import os"
   ]
  },
  {
   "cell_type": "code",
   "execution_count": 7,
   "metadata": {},
   "outputs": [],
   "source": [
    "from difflib import SequenceMatcher"
   ]
  },
  {
   "cell_type": "code",
   "execution_count": 8,
   "metadata": {},
   "outputs": [],
   "source": [
    "def similar(a, b):\n",
    "    return SequenceMatcher(None, a, b).ratio()"
   ]
  },
  {
   "cell_type": "code",
   "execution_count": 9,
   "metadata": {},
   "outputs": [],
   "source": [
    "df_eco= pd.read_csv('emetrp.csv', delimiter=';',encoding = \"ISO-8859-1\", error_bad_lines=False)\n",
    "df_aer= pd.read_csv('aecrev.csv', delimiter=';',encoding = \"ISO-8859-1\", error_bad_lines=False)\n",
    "df_jpe= pd.read_csv('jpolec.csv', delimiter=';',encoding = \"ISO-8859-1\", error_bad_lines=False)\n",
    "df_qje= pd.read_csv('qjecon.csv', delimiter=';',encoding = \"ISO-8859-1\", error_bad_lines=False)\n",
    "df_res= pd.read_csv('restud.csv', delimiter=';',encoding = \"ISO-8859-1\", error_bad_lines=False)"
   ]
  },
  {
   "cell_type": "code",
   "execution_count": 10,
   "metadata": {},
   "outputs": [],
   "source": [
    "df=df_aer.append(df_eco,ignore_index=True)\n",
    "df=df.append(df_qje,ignore_index=True)\n",
    "df=df.append(df_jpe,ignore_index=True)\n",
    "df=df.append(df_res,ignore_index=True)"
   ]
  },
  {
   "cell_type": "code",
   "execution_count": 11,
   "metadata": {},
   "outputs": [],
   "source": [
    "df.drop(columns=['handle','title','vol','issue','page','end page'], inplace=True)"
   ]
  },
  {
   "cell_type": "code",
   "execution_count": 13,
   "metadata": {},
   "outputs": [],
   "source": [
    "df_repec=pd.read_csv('autores_repec.csv', delimiter=',')"
   ]
  },
  {
   "cell_type": "code",
   "execution_count": 14,
   "metadata": {},
   "outputs": [
    {
     "data": {
      "text/html": [
       "<div>\n",
       "<style scoped>\n",
       "    .dataframe tbody tr th:only-of-type {\n",
       "        vertical-align: middle;\n",
       "    }\n",
       "\n",
       "    .dataframe tbody tr th {\n",
       "        vertical-align: top;\n",
       "    }\n",
       "\n",
       "    .dataframe thead th {\n",
       "        text-align: right;\n",
       "    }\n",
       "</style>\n",
       "<table border=\"1\" class=\"dataframe\">\n",
       "  <thead>\n",
       "    <tr style=\"text-align: right;\">\n",
       "      <th></th>\n",
       "      <th>Name</th>\n",
       "      <th>Short-Id</th>\n",
       "    </tr>\n",
       "  </thead>\n",
       "  <tbody>\n",
       "    <tr>\n",
       "      <td>0</td>\n",
       "      <td>Arild Aakvik</td>\n",
       "      <td>paa1</td>\n",
       "    </tr>\n",
       "    <tr>\n",
       "      <td>1</td>\n",
       "      <td>Eline Aas</td>\n",
       "      <td>paa10</td>\n",
       "    </tr>\n",
       "    <tr>\n",
       "      <td>2</td>\n",
       "      <td>Arnstein Aassve</td>\n",
       "      <td>paa11</td>\n",
       "    </tr>\n",
       "    <tr>\n",
       "      <td>3</td>\n",
       "      <td>Susan Ariel Aaronson</td>\n",
       "      <td>paa12</td>\n",
       "    </tr>\n",
       "    <tr>\n",
       "      <td>4</td>\n",
       "      <td>Daniel Aaronson</td>\n",
       "      <td>paa13</td>\n",
       "    </tr>\n",
       "    <tr>\n",
       "      <td>...</td>\n",
       "      <td>...</td>\n",
       "      <td>...</td>\n",
       "    </tr>\n",
       "    <tr>\n",
       "      <td>70758</td>\n",
       "      <td>Eduardo Zylberstajn</td>\n",
       "      <td>pzy5</td>\n",
       "    </tr>\n",
       "    <tr>\n",
       "      <td>70759</td>\n",
       "      <td>Adam Zylbersztejn</td>\n",
       "      <td>pzy6</td>\n",
       "    </tr>\n",
       "    <tr>\n",
       "      <td>70760</td>\n",
       "      <td>Robert Zymek</td>\n",
       "      <td>pzy7</td>\n",
       "    </tr>\n",
       "    <tr>\n",
       "      <td>70761</td>\n",
       "      <td>Yanos Zylberberg</td>\n",
       "      <td>pzy8</td>\n",
       "    </tr>\n",
       "    <tr>\n",
       "      <td>70762</td>\n",
       "      <td>Benjamin Zycher</td>\n",
       "      <td>pzy9</td>\n",
       "    </tr>\n",
       "  </tbody>\n",
       "</table>\n",
       "<p>70763 rows × 2 columns</p>\n",
       "</div>"
      ],
      "text/plain": [
       "                       Name Short-Id\n",
       "0              Arild Aakvik     paa1\n",
       "1                 Eline Aas    paa10\n",
       "2           Arnstein Aassve    paa11\n",
       "3      Susan Ariel Aaronson    paa12\n",
       "4           Daniel Aaronson    paa13\n",
       "...                     ...      ...\n",
       "70758   Eduardo Zylberstajn     pzy5\n",
       "70759     Adam Zylbersztejn     pzy6\n",
       "70760          Robert Zymek     pzy7\n",
       "70761      Yanos Zylberberg     pzy8\n",
       "70762       Benjamin Zycher     pzy9\n",
       "\n",
       "[70763 rows x 2 columns]"
      ]
     },
     "execution_count": 14,
     "metadata": {},
     "output_type": "execute_result"
    }
   ],
   "source": [
    "df_repec"
   ]
  },
  {
   "cell_type": "code",
   "execution_count": 15,
   "metadata": {},
   "outputs": [
    {
     "data": {
      "text/html": [
       "<div>\n",
       "<style scoped>\n",
       "    .dataframe tbody tr th:only-of-type {\n",
       "        vertical-align: middle;\n",
       "    }\n",
       "\n",
       "    .dataframe tbody tr th {\n",
       "        vertical-align: top;\n",
       "    }\n",
       "\n",
       "    .dataframe thead th {\n",
       "        text-align: right;\n",
       "    }\n",
       "</style>\n",
       "<table border=\"1\" class=\"dataframe\">\n",
       "  <thead>\n",
       "    <tr style=\"text-align: right;\">\n",
       "      <th></th>\n",
       "      <th>journal</th>\n",
       "      <th>year</th>\n",
       "      <th>author</th>\n",
       "      <th>Name</th>\n",
       "      <th>Short-Id</th>\n",
       "    </tr>\n",
       "  </thead>\n",
       "  <tbody>\n",
       "    <tr>\n",
       "      <td>0</td>\n",
       "      <td>American Economic Review</td>\n",
       "      <td>2000.0</td>\n",
       "      <td>D. Gale Johnson</td>\n",
       "      <td>D. Gale Johnson</td>\n",
       "      <td>pjo254</td>\n",
       "    </tr>\n",
       "    <tr>\n",
       "      <td>1</td>\n",
       "      <td>American Economic Review</td>\n",
       "      <td>2000.0</td>\n",
       "      <td>Dmitriy Stolyarov</td>\n",
       "      <td>NaN</td>\n",
       "      <td>NaN</td>\n",
       "    </tr>\n",
       "    <tr>\n",
       "      <td>2</td>\n",
       "      <td>American Economic Review</td>\n",
       "      <td>2000.0</td>\n",
       "      <td>Boyan Jovanovic</td>\n",
       "      <td>Boyan Jovanovic</td>\n",
       "      <td>pjo20</td>\n",
       "    </tr>\n",
       "    <tr>\n",
       "      <td>3</td>\n",
       "      <td>American Economic Review</td>\n",
       "      <td>2000.0</td>\n",
       "      <td>Eric S. Rosengren</td>\n",
       "      <td>NaN</td>\n",
       "      <td>NaN</td>\n",
       "    </tr>\n",
       "    <tr>\n",
       "      <td>4</td>\n",
       "      <td>American Economic Review</td>\n",
       "      <td>2000.0</td>\n",
       "      <td>Joe Peek</td>\n",
       "      <td>Joe Peek</td>\n",
       "      <td>ppe90</td>\n",
       "    </tr>\n",
       "    <tr>\n",
       "      <td>...</td>\n",
       "      <td>...</td>\n",
       "      <td>...</td>\n",
       "      <td>...</td>\n",
       "      <td>...</td>\n",
       "      <td>...</td>\n",
       "    </tr>\n",
       "    <tr>\n",
       "      <td>17139</td>\n",
       "      <td>Review of Economic Studies</td>\n",
       "      <td>2019.0</td>\n",
       "      <td>Jeong Ho (John) Kim</td>\n",
       "      <td>NaN</td>\n",
       "      <td>NaN</td>\n",
       "    </tr>\n",
       "    <tr>\n",
       "      <td>17140</td>\n",
       "      <td>Review of Economic Studies</td>\n",
       "      <td>2019.0</td>\n",
       "      <td>Eduardo Morales</td>\n",
       "      <td>NaN</td>\n",
       "      <td>NaN</td>\n",
       "    </tr>\n",
       "    <tr>\n",
       "      <td>17141</td>\n",
       "      <td>Review of Economic Studies</td>\n",
       "      <td>2019.0</td>\n",
       "      <td>Gloria Sheu</td>\n",
       "      <td>Gloria Sheu</td>\n",
       "      <td>psh447</td>\n",
       "    </tr>\n",
       "    <tr>\n",
       "      <td>17142</td>\n",
       "      <td>Review of Economic Studies</td>\n",
       "      <td>2019.0</td>\n",
       "      <td>Andrés Zahler</td>\n",
       "      <td>NaN</td>\n",
       "      <td>NaN</td>\n",
       "    </tr>\n",
       "    <tr>\n",
       "      <td>17143</td>\n",
       "      <td>Review of Economic Studies</td>\n",
       "      <td>2019.0</td>\n",
       "      <td>Eduardo Souza-Rodrigues</td>\n",
       "      <td>NaN</td>\n",
       "      <td>NaN</td>\n",
       "    </tr>\n",
       "  </tbody>\n",
       "</table>\n",
       "<p>17144 rows × 5 columns</p>\n",
       "</div>"
      ],
      "text/plain": [
       "                          journal    year                   author  \\\n",
       "0        American Economic Review  2000.0          D. Gale Johnson   \n",
       "1        American Economic Review  2000.0        Dmitriy Stolyarov   \n",
       "2        American Economic Review  2000.0          Boyan Jovanovic   \n",
       "3        American Economic Review  2000.0        Eric S. Rosengren   \n",
       "4        American Economic Review  2000.0                 Joe Peek   \n",
       "...                           ...     ...                      ...   \n",
       "17139  Review of Economic Studies  2019.0      Jeong Ho (John) Kim   \n",
       "17140  Review of Economic Studies  2019.0          Eduardo Morales   \n",
       "17141  Review of Economic Studies  2019.0              Gloria Sheu   \n",
       "17142  Review of Economic Studies  2019.0            Andrés Zahler   \n",
       "17143  Review of Economic Studies  2019.0  Eduardo Souza-Rodrigues   \n",
       "\n",
       "                  Name Short-Id  \n",
       "0      D. Gale Johnson   pjo254  \n",
       "1                  NaN      NaN  \n",
       "2      Boyan Jovanovic    pjo20  \n",
       "3                  NaN      NaN  \n",
       "4             Joe Peek    ppe90  \n",
       "...                ...      ...  \n",
       "17139              NaN      NaN  \n",
       "17140              NaN      NaN  \n",
       "17141      Gloria Sheu   psh447  \n",
       "17142              NaN      NaN  \n",
       "17143              NaN      NaN  \n",
       "\n",
       "[17144 rows x 5 columns]"
      ]
     },
     "execution_count": 15,
     "metadata": {},
     "output_type": "execute_result"
    }
   ],
   "source": [
    "df_final = pd.merge(df, df_repec, how = 'left',left_on ='author', right_on = 'Name')\n",
    "df_final"
   ]
  },
  {
   "cell_type": "code",
   "execution_count": 16,
   "metadata": {},
   "outputs": [
    {
     "data": {
      "text/html": [
       "<div>\n",
       "<style scoped>\n",
       "    .dataframe tbody tr th:only-of-type {\n",
       "        vertical-align: middle;\n",
       "    }\n",
       "\n",
       "    .dataframe tbody tr th {\n",
       "        vertical-align: top;\n",
       "    }\n",
       "\n",
       "    .dataframe thead th {\n",
       "        text-align: right;\n",
       "    }\n",
       "</style>\n",
       "<table border=\"1\" class=\"dataframe\">\n",
       "  <thead>\n",
       "    <tr style=\"text-align: right;\">\n",
       "      <th></th>\n",
       "      <th>journal</th>\n",
       "      <th>year</th>\n",
       "      <th>author</th>\n",
       "      <th>Name</th>\n",
       "      <th>Short-Id</th>\n",
       "    </tr>\n",
       "  </thead>\n",
       "  <tbody>\n",
       "    <tr>\n",
       "      <td>0</td>\n",
       "      <td>American Economic Review</td>\n",
       "      <td>2000.0</td>\n",
       "      <td>D. Gale Johnson</td>\n",
       "      <td>D. Gale Johnson</td>\n",
       "      <td>pjo254</td>\n",
       "    </tr>\n",
       "    <tr>\n",
       "      <td>2</td>\n",
       "      <td>American Economic Review</td>\n",
       "      <td>2000.0</td>\n",
       "      <td>Boyan Jovanovic</td>\n",
       "      <td>Boyan Jovanovic</td>\n",
       "      <td>pjo20</td>\n",
       "    </tr>\n",
       "    <tr>\n",
       "      <td>4</td>\n",
       "      <td>American Economic Review</td>\n",
       "      <td>2000.0</td>\n",
       "      <td>Joe Peek</td>\n",
       "      <td>Joe Peek</td>\n",
       "      <td>ppe90</td>\n",
       "    </tr>\n",
       "    <tr>\n",
       "      <td>5</td>\n",
       "      <td>American Economic Review</td>\n",
       "      <td>2000.0</td>\n",
       "      <td>Larry Samuelson</td>\n",
       "      <td>Larry Samuelson</td>\n",
       "      <td>psa80</td>\n",
       "    </tr>\n",
       "    <tr>\n",
       "      <td>6</td>\n",
       "      <td>American Economic Review</td>\n",
       "      <td>2000.0</td>\n",
       "      <td>George J. Mailath</td>\n",
       "      <td>George J. Mailath</td>\n",
       "      <td>pma6</td>\n",
       "    </tr>\n",
       "    <tr>\n",
       "      <td>...</td>\n",
       "      <td>...</td>\n",
       "      <td>...</td>\n",
       "      <td>...</td>\n",
       "      <td>...</td>\n",
       "      <td>...</td>\n",
       "    </tr>\n",
       "    <tr>\n",
       "      <td>17133</td>\n",
       "      <td>Review of Economic Studies</td>\n",
       "      <td>2019.0</td>\n",
       "      <td>Elisa Faraglia</td>\n",
       "      <td>Elisa Faraglia</td>\n",
       "      <td>pfa164</td>\n",
       "    </tr>\n",
       "    <tr>\n",
       "      <td>17134</td>\n",
       "      <td>Review of Economic Studies</td>\n",
       "      <td>2019.0</td>\n",
       "      <td>Albert Marcet</td>\n",
       "      <td>Albert Marcet</td>\n",
       "      <td>pma173</td>\n",
       "    </tr>\n",
       "    <tr>\n",
       "      <td>17135</td>\n",
       "      <td>Review of Economic Studies</td>\n",
       "      <td>2019.0</td>\n",
       "      <td>Rigas Oikonomou</td>\n",
       "      <td>Rigas Oikonomou</td>\n",
       "      <td>poi7</td>\n",
       "    </tr>\n",
       "    <tr>\n",
       "      <td>17136</td>\n",
       "      <td>Review of Economic Studies</td>\n",
       "      <td>2019.0</td>\n",
       "      <td>Andrew Scott</td>\n",
       "      <td>Andrew Scott</td>\n",
       "      <td>psc65</td>\n",
       "    </tr>\n",
       "    <tr>\n",
       "      <td>17141</td>\n",
       "      <td>Review of Economic Studies</td>\n",
       "      <td>2019.0</td>\n",
       "      <td>Gloria Sheu</td>\n",
       "      <td>Gloria Sheu</td>\n",
       "      <td>psh447</td>\n",
       "    </tr>\n",
       "  </tbody>\n",
       "</table>\n",
       "<p>9522 rows × 5 columns</p>\n",
       "</div>"
      ],
      "text/plain": [
       "                          journal    year             author  \\\n",
       "0        American Economic Review  2000.0    D. Gale Johnson   \n",
       "2        American Economic Review  2000.0    Boyan Jovanovic   \n",
       "4        American Economic Review  2000.0           Joe Peek   \n",
       "5        American Economic Review  2000.0    Larry Samuelson   \n",
       "6        American Economic Review  2000.0  George J. Mailath   \n",
       "...                           ...     ...                ...   \n",
       "17133  Review of Economic Studies  2019.0     Elisa Faraglia   \n",
       "17134  Review of Economic Studies  2019.0      Albert Marcet   \n",
       "17135  Review of Economic Studies  2019.0    Rigas Oikonomou   \n",
       "17136  Review of Economic Studies  2019.0       Andrew Scott   \n",
       "17141  Review of Economic Studies  2019.0        Gloria Sheu   \n",
       "\n",
       "                    Name Short-Id  \n",
       "0        D. Gale Johnson   pjo254  \n",
       "2        Boyan Jovanovic    pjo20  \n",
       "4               Joe Peek    ppe90  \n",
       "5        Larry Samuelson    psa80  \n",
       "6      George J. Mailath     pma6  \n",
       "...                  ...      ...  \n",
       "17133     Elisa Faraglia   pfa164  \n",
       "17134      Albert Marcet   pma173  \n",
       "17135    Rigas Oikonomou     poi7  \n",
       "17136       Andrew Scott    psc65  \n",
       "17141        Gloria Sheu   psh447  \n",
       "\n",
       "[9522 rows x 5 columns]"
      ]
     },
     "execution_count": 16,
     "metadata": {},
     "output_type": "execute_result"
    }
   ],
   "source": [
    "df_final_1 = df_final.dropna()\n",
    "df_final_1"
   ]
  },
  {
   "cell_type": "code",
   "execution_count": 17,
   "metadata": {},
   "outputs": [],
   "source": [
    "df_final_1.to_csv('test.csv')"
   ]
  },
  {
   "cell_type": "code",
   "execution_count": 19,
   "metadata": {},
   "outputs": [
    {
     "data": {
      "text/html": [
       "<div>\n",
       "<style scoped>\n",
       "    .dataframe tbody tr th:only-of-type {\n",
       "        vertical-align: middle;\n",
       "    }\n",
       "\n",
       "    .dataframe tbody tr th {\n",
       "        vertical-align: top;\n",
       "    }\n",
       "\n",
       "    .dataframe thead th {\n",
       "        text-align: right;\n",
       "    }\n",
       "</style>\n",
       "<table border=\"1\" class=\"dataframe\">\n",
       "  <thead>\n",
       "    <tr style=\"text-align: right;\">\n",
       "      <th></th>\n",
       "      <th>journal</th>\n",
       "      <th>year</th>\n",
       "      <th>author</th>\n",
       "      <th>Name</th>\n",
       "      <th>Short-Id</th>\n",
       "    </tr>\n",
       "  </thead>\n",
       "  <tbody>\n",
       "    <tr>\n",
       "      <td>1</td>\n",
       "      <td>American Economic Review</td>\n",
       "      <td>2000.0</td>\n",
       "      <td>Dmitriy Stolyarov</td>\n",
       "      <td>NaN</td>\n",
       "      <td>NaN</td>\n",
       "    </tr>\n",
       "    <tr>\n",
       "      <td>3</td>\n",
       "      <td>American Economic Review</td>\n",
       "      <td>2000.0</td>\n",
       "      <td>Eric S. Rosengren</td>\n",
       "      <td>NaN</td>\n",
       "      <td>NaN</td>\n",
       "    </tr>\n",
       "    <tr>\n",
       "      <td>7</td>\n",
       "      <td>American Economic Review</td>\n",
       "      <td>2000.0</td>\n",
       "      <td>Avner Shaked</td>\n",
       "      <td>NaN</td>\n",
       "      <td>NaN</td>\n",
       "    </tr>\n",
       "    <tr>\n",
       "      <td>8</td>\n",
       "      <td>American Economic Review</td>\n",
       "      <td>2000.0</td>\n",
       "      <td>David E. Wildasin</td>\n",
       "      <td>NaN</td>\n",
       "      <td>NaN</td>\n",
       "    </tr>\n",
       "    <tr>\n",
       "      <td>10</td>\n",
       "      <td>American Economic Review</td>\n",
       "      <td>2000.0</td>\n",
       "      <td>Thomas J. Nechyba</td>\n",
       "      <td>NaN</td>\n",
       "      <td>NaN</td>\n",
       "    </tr>\n",
       "    <tr>\n",
       "      <td>...</td>\n",
       "      <td>...</td>\n",
       "      <td>...</td>\n",
       "      <td>...</td>\n",
       "      <td>...</td>\n",
       "      <td>...</td>\n",
       "    </tr>\n",
       "    <tr>\n",
       "      <td>17138</td>\n",
       "      <td>Review of Economic Studies</td>\n",
       "      <td>2019.0</td>\n",
       "      <td>Junehyuk Jung</td>\n",
       "      <td>NaN</td>\n",
       "      <td>NaN</td>\n",
       "    </tr>\n",
       "    <tr>\n",
       "      <td>17139</td>\n",
       "      <td>Review of Economic Studies</td>\n",
       "      <td>2019.0</td>\n",
       "      <td>Jeong Ho (John) Kim</td>\n",
       "      <td>NaN</td>\n",
       "      <td>NaN</td>\n",
       "    </tr>\n",
       "    <tr>\n",
       "      <td>17140</td>\n",
       "      <td>Review of Economic Studies</td>\n",
       "      <td>2019.0</td>\n",
       "      <td>Eduardo Morales</td>\n",
       "      <td>NaN</td>\n",
       "      <td>NaN</td>\n",
       "    </tr>\n",
       "    <tr>\n",
       "      <td>17142</td>\n",
       "      <td>Review of Economic Studies</td>\n",
       "      <td>2019.0</td>\n",
       "      <td>Andrés Zahler</td>\n",
       "      <td>NaN</td>\n",
       "      <td>NaN</td>\n",
       "    </tr>\n",
       "    <tr>\n",
       "      <td>17143</td>\n",
       "      <td>Review of Economic Studies</td>\n",
       "      <td>2019.0</td>\n",
       "      <td>Eduardo Souza-Rodrigues</td>\n",
       "      <td>NaN</td>\n",
       "      <td>NaN</td>\n",
       "    </tr>\n",
       "  </tbody>\n",
       "</table>\n",
       "<p>7622 rows × 5 columns</p>\n",
       "</div>"
      ],
      "text/plain": [
       "                          journal    year                   author Name  \\\n",
       "1        American Economic Review  2000.0        Dmitriy Stolyarov  NaN   \n",
       "3        American Economic Review  2000.0        Eric S. Rosengren  NaN   \n",
       "7        American Economic Review  2000.0             Avner Shaked  NaN   \n",
       "8        American Economic Review  2000.0        David E. Wildasin  NaN   \n",
       "10       American Economic Review  2000.0        Thomas J. Nechyba  NaN   \n",
       "...                           ...     ...                      ...  ...   \n",
       "17138  Review of Economic Studies  2019.0            Junehyuk Jung  NaN   \n",
       "17139  Review of Economic Studies  2019.0      Jeong Ho (John) Kim  NaN   \n",
       "17140  Review of Economic Studies  2019.0          Eduardo Morales  NaN   \n",
       "17142  Review of Economic Studies  2019.0            Andrés Zahler  NaN   \n",
       "17143  Review of Economic Studies  2019.0  Eduardo Souza-Rodrigues  NaN   \n",
       "\n",
       "      Short-Id  \n",
       "1          NaN  \n",
       "3          NaN  \n",
       "7          NaN  \n",
       "8          NaN  \n",
       "10         NaN  \n",
       "...        ...  \n",
       "17138      NaN  \n",
       "17139      NaN  \n",
       "17140      NaN  \n",
       "17142      NaN  \n",
       "17143      NaN  \n",
       "\n",
       "[7622 rows x 5 columns]"
      ]
     },
     "execution_count": 19,
     "metadata": {},
     "output_type": "execute_result"
    }
   ],
   "source": [
    "df_final_0 = df_final[df_final.isna().any(axis=1)]\n",
    "df_final_0"
   ]
  },
  {
   "cell_type": "code",
   "execution_count": 20,
   "metadata": {},
   "outputs": [
    {
     "data": {
      "text/html": [
       "<div>\n",
       "<style scoped>\n",
       "    .dataframe tbody tr th:only-of-type {\n",
       "        vertical-align: middle;\n",
       "    }\n",
       "\n",
       "    .dataframe tbody tr th {\n",
       "        vertical-align: top;\n",
       "    }\n",
       "\n",
       "    .dataframe thead th {\n",
       "        text-align: right;\n",
       "    }\n",
       "</style>\n",
       "<table border=\"1\" class=\"dataframe\">\n",
       "  <thead>\n",
       "    <tr style=\"text-align: right;\">\n",
       "      <th></th>\n",
       "      <th>journal</th>\n",
       "      <th>year</th>\n",
       "      <th>author</th>\n",
       "      <th>Name</th>\n",
       "      <th>Short-Id</th>\n",
       "    </tr>\n",
       "  </thead>\n",
       "  <tbody>\n",
       "    <tr>\n",
       "      <td>5934</td>\n",
       "      <td>American Economic Review</td>\n",
       "      <td>2013.0</td>\n",
       "      <td>?kos Valentinyi</td>\n",
       "      <td>NaN</td>\n",
       "      <td>NaN</td>\n",
       "    </tr>\n",
       "    <tr>\n",
       "      <td>17022</td>\n",
       "      <td>Review of Economic Studies</td>\n",
       "      <td>2019.0</td>\n",
       "      <td>A Mushfiq Mobarak</td>\n",
       "      <td>NaN</td>\n",
       "      <td>NaN</td>\n",
       "    </tr>\n",
       "    <tr>\n",
       "      <td>4185</td>\n",
       "      <td>American Economic Review</td>\n",
       "      <td>2010.0</td>\n",
       "      <td>A. Joshua Strickland</td>\n",
       "      <td>NaN</td>\n",
       "      <td>NaN</td>\n",
       "    </tr>\n",
       "    <tr>\n",
       "      <td>7181</td>\n",
       "      <td>American Economic Review</td>\n",
       "      <td>2016.0</td>\n",
       "      <td>A. Kerem Co?ar</td>\n",
       "      <td>NaN</td>\n",
       "      <td>NaN</td>\n",
       "    </tr>\n",
       "    <tr>\n",
       "      <td>6771</td>\n",
       "      <td>American Economic Review</td>\n",
       "      <td>2015.0</td>\n",
       "      <td>A. Mushfiq Mobarak</td>\n",
       "      <td>NaN</td>\n",
       "      <td>NaN</td>\n",
       "    </tr>\n",
       "    <tr>\n",
       "      <td>...</td>\n",
       "      <td>...</td>\n",
       "      <td>...</td>\n",
       "      <td>...</td>\n",
       "      <td>...</td>\n",
       "      <td>...</td>\n",
       "    </tr>\n",
       "    <tr>\n",
       "      <td>15911</td>\n",
       "      <td>NaN</td>\n",
       "      <td>NaN</td>\n",
       "      <td>NaN</td>\n",
       "      <td>NaN</td>\n",
       "      <td>NaN</td>\n",
       "    </tr>\n",
       "    <tr>\n",
       "      <td>15912</td>\n",
       "      <td>NaN</td>\n",
       "      <td>NaN</td>\n",
       "      <td>NaN</td>\n",
       "      <td>NaN</td>\n",
       "      <td>NaN</td>\n",
       "    </tr>\n",
       "    <tr>\n",
       "      <td>16692</td>\n",
       "      <td>NaN</td>\n",
       "      <td>NaN</td>\n",
       "      <td>NaN</td>\n",
       "      <td>NaN</td>\n",
       "      <td>NaN</td>\n",
       "    </tr>\n",
       "    <tr>\n",
       "      <td>16693</td>\n",
       "      <td>NaN</td>\n",
       "      <td>NaN</td>\n",
       "      <td>NaN</td>\n",
       "      <td>NaN</td>\n",
       "      <td>NaN</td>\n",
       "    </tr>\n",
       "    <tr>\n",
       "      <td>16694</td>\n",
       "      <td>NaN</td>\n",
       "      <td>NaN</td>\n",
       "      <td>NaN</td>\n",
       "      <td>NaN</td>\n",
       "      <td>NaN</td>\n",
       "    </tr>\n",
       "  </tbody>\n",
       "</table>\n",
       "<p>7622 rows × 5 columns</p>\n",
       "</div>"
      ],
      "text/plain": [
       "                          journal    year                author Name Short-Id\n",
       "5934     American Economic Review  2013.0       ?kos Valentinyi  NaN      NaN\n",
       "17022  Review of Economic Studies  2019.0     A Mushfiq Mobarak  NaN      NaN\n",
       "4185     American Economic Review  2010.0  A. Joshua Strickland  NaN      NaN\n",
       "7181     American Economic Review  2016.0        A. Kerem Co?ar  NaN      NaN\n",
       "6771     American Economic Review  2015.0    A. Mushfiq Mobarak  NaN      NaN\n",
       "...                           ...     ...                   ...  ...      ...\n",
       "15911                         NaN     NaN                   NaN  NaN      NaN\n",
       "15912                         NaN     NaN                   NaN  NaN      NaN\n",
       "16692                         NaN     NaN                   NaN  NaN      NaN\n",
       "16693                         NaN     NaN                   NaN  NaN      NaN\n",
       "16694                         NaN     NaN                   NaN  NaN      NaN\n",
       "\n",
       "[7622 rows x 5 columns]"
      ]
     },
     "execution_count": 20,
     "metadata": {},
     "output_type": "execute_result"
    }
   ],
   "source": [
    "df_final_0.sort_values(by='author')"
   ]
  },
  {
   "cell_type": "code",
   "execution_count": 21,
   "metadata": {},
   "outputs": [
    {
     "data": {
      "text/html": [
       "<div>\n",
       "<style scoped>\n",
       "    .dataframe tbody tr th:only-of-type {\n",
       "        vertical-align: middle;\n",
       "    }\n",
       "\n",
       "    .dataframe tbody tr th {\n",
       "        vertical-align: top;\n",
       "    }\n",
       "\n",
       "    .dataframe thead th {\n",
       "        text-align: right;\n",
       "    }\n",
       "</style>\n",
       "<table border=\"1\" class=\"dataframe\">\n",
       "  <thead>\n",
       "    <tr style=\"text-align: right;\">\n",
       "      <th></th>\n",
       "      <th>journal</th>\n",
       "      <th>year</th>\n",
       "      <th>author</th>\n",
       "      <th>Name</th>\n",
       "      <th>Short-Id</th>\n",
       "    </tr>\n",
       "  </thead>\n",
       "  <tbody>\n",
       "    <tr>\n",
       "      <td>16107</td>\n",
       "      <td>Review of Economic Studies</td>\n",
       "      <td>2011.0</td>\n",
       "      <td>ski</td>\n",
       "      <td>NaN</td>\n",
       "      <td>NaN</td>\n",
       "    </tr>\n",
       "  </tbody>\n",
       "</table>\n",
       "</div>"
      ],
      "text/plain": [
       "                          journal    year author Name Short-Id\n",
       "16107  Review of Economic Studies  2011.0    ski  NaN      NaN"
      ]
     },
     "execution_count": 21,
     "metadata": {},
     "output_type": "execute_result"
    }
   ],
   "source": [
    "df_final_0[df_final_0.author=='ski']"
   ]
  },
  {
   "cell_type": "code",
   "execution_count": 22,
   "metadata": {},
   "outputs": [
    {
     "data": {
      "text/plain": [
       "7435"
      ]
     },
     "execution_count": 22,
     "metadata": {},
     "output_type": "execute_result"
    }
   ],
   "source": [
    "autores = list(df_final_0[\"author\"])\n",
    "autores = [autores[i] for i in range(len(autores)) if type(autores[i])!=float]\n",
    "len(autores)"
   ]
  },
  {
   "cell_type": "code",
   "execution_count": 40,
   "metadata": {},
   "outputs": [
    {
     "data": {
      "text/plain": [
       "70763"
      ]
     },
     "execution_count": 40,
     "metadata": {},
     "output_type": "execute_result"
    }
   ],
   "source": [
    "ids = list(df_repec['Short-Id'])\n",
    "len(ids)"
   ]
  },
  {
   "cell_type": "code",
   "execution_count": 43,
   "metadata": {},
   "outputs": [],
   "source": [
    "names = list(df_repec[\"Name\"])\n",
    "names_tuplas = [(names[i], i) for i in range(len(names)) if type(names[i])!=float]"
   ]
  },
  {
   "cell_type": "code",
   "execution_count": 32,
   "metadata": {},
   "outputs": [
    {
     "data": {
      "text/plain": [
       "70763"
      ]
     },
     "execution_count": 32,
     "metadata": {},
     "output_type": "execute_result"
    }
   ],
   "source": [
    "len(names)"
   ]
  },
  {
   "cell_type": "code",
   "execution_count": 26,
   "metadata": {},
   "outputs": [
    {
     "data": {
      "text/plain": [
       "'a f. a. r'"
      ]
     },
     "execution_count": 26,
     "metadata": {},
     "output_type": "execute_result"
    }
   ],
   "source": [
    "\"a f.a. r\".replace(\".\", \". \").replace(\"  \", \" \")"
   ]
  },
  {
   "cell_type": "code",
   "execution_count": 27,
   "metadata": {},
   "outputs": [],
   "source": []
  },
  {
   "cell_type": "code",
   "execution_count": 50,
   "metadata": {},
   "outputs": [],
   "source": [
    "from numba import njit\n",
    "from numba import jit\n",
    "from numba import autojit\n",
    "from timeit import default_timer as timer"
   ]
  },
  {
   "cell_type": "code",
   "execution_count": 53,
   "metadata": {},
   "outputs": [
    {
     "name": "stderr",
     "output_type": "stream",
     "text": [
      "C:\\Users\\JaimePanchana\\Anaconda3\\lib\\site-packages\\numba\\decorators.py:29: NumbaDeprecationWarning: \u001b[1mautojit is deprecated, use jit instead, which provides the same functionality. For more information visit http://numba.pydata.org/numba-doc/latest/reference/deprecation.html#deprecation-of-numba-autojit\u001b[0m\n",
      "  warnings.warn(NumbaDeprecationWarning(msg))\n"
     ]
    }
   ],
   "source": [
    "@autojit\n",
    "def similar(a, b):\n",
    "    return SequenceMatcher(None, a, b).ratio()\n",
    "\n",
    "@autojit\n",
    "def retornaDic(lista_autores, lista_names):\n",
    "    dic = {}\n",
    "    for autor in autores:\n",
    "        autor = autor.replace(\".\", \". \")\n",
    "        autor = autor.replace(\"  \", \" \")\n",
    "        autor = autor.lower()\n",
    "        for name, indice in names_tuplas:\n",
    "            name = name.replace(\".\", \". \")\n",
    "            name = name.replace(\"  \", \" \")\n",
    "            name = name.lower()\n",
    "            prob = similar(autor, name)\n",
    "            if prob>=0.85:\n",
    "                if autor not in dic:\n",
    "                    dic[autor] = [name, ids[indice]]\n",
    "                else:\n",
    "                    dic[autor] += [name, ids[indice]]\n",
    "                #print(\"{}|{}-->{}\".format(autor.lower(), name.lower(),\"{:.6f}\".format(prob)))\n",
    "    return dic"
   ]
  },
  {
   "cell_type": "code",
   "execution_count": 54,
   "metadata": {
    "scrolled": true
   },
   "outputs": [
    {
     "name": "stderr",
     "output_type": "stream",
     "text": [
      "<ipython-input-53-9b7c9a7e2341>:5: NumbaWarning: \u001b[1m\n",
      "Compilation is falling back to object mode WITH looplifting enabled because Function \"retornaDic\" failed type inference due to: \u001b[1m\u001b[1mUnknown attribute 'replace' of type unicode_type\n",
      "\u001b[1m\n",
      "File \"<ipython-input-53-9b7c9a7e2341>\", line 9:\u001b[0m\n",
      "\u001b[1mdef retornaDic(lista_autores, lista_names):\n",
      "    <source elided>\n",
      "    for autor in autores:\n",
      "\u001b[1m        autor = autor.replace(\".\", \". \")\n",
      "\u001b[0m        \u001b[1m^\u001b[0m\u001b[0m\n",
      "\u001b[0m\n",
      "\u001b[0m\u001b[1m[1] During: typing of get attribute at <ipython-input-53-9b7c9a7e2341> (9)\u001b[0m\n",
      "\u001b[1m\n",
      "File \"<ipython-input-53-9b7c9a7e2341>\", line 9:\u001b[0m\n",
      "\u001b[1mdef retornaDic(lista_autores, lista_names):\n",
      "    <source elided>\n",
      "    for autor in autores:\n",
      "\u001b[1m        autor = autor.replace(\".\", \". \")\n",
      "\u001b[0m        \u001b[1m^\u001b[0m\u001b[0m\n",
      "\u001b[0m\n",
      "  @autojit\n",
      "<ipython-input-53-9b7c9a7e2341>:5: NumbaWarning: \u001b[1m\n",
      "Compilation is falling back to object mode WITHOUT looplifting enabled because Function \"retornaDic\" failed type inference due to: \u001b[1m\u001b[1mcannot determine Numba type of <class 'numba.dispatcher.LiftedLoop'>\u001b[0m\n",
      "\u001b[1m\n",
      "File \"<ipython-input-53-9b7c9a7e2341>\", line 8:\u001b[0m\n",
      "\u001b[1mdef retornaDic(lista_autores, lista_names):\n",
      "    <source elided>\n",
      "    dic = {}\n",
      "\u001b[1m    for autor in autores:\n",
      "\u001b[0m    \u001b[1m^\u001b[0m\u001b[0m\n",
      "\u001b[0m\u001b[0m\n",
      "  @autojit\n",
      "C:\\Users\\JaimePanchana\\Anaconda3\\lib\\site-packages\\numba\\compiler.py:742: NumbaWarning: \u001b[1mFunction \"retornaDic\" was compiled in object mode without forceobj=True, but has lifted loops.\n",
      "\u001b[1m\n",
      "File \"<ipython-input-53-9b7c9a7e2341>\", line 6:\u001b[0m\n",
      "\u001b[1m@autojit\n",
      "\u001b[1mdef retornaDic(lista_autores, lista_names):\n",
      "\u001b[0m\u001b[1m^\u001b[0m\u001b[0m\n",
      "\u001b[0m\n",
      "  self.func_ir.loc))\n",
      "C:\\Users\\JaimePanchana\\Anaconda3\\lib\\site-packages\\numba\\compiler.py:751: NumbaDeprecationWarning: \u001b[1m\n",
      "Fall-back from the nopython compilation path to the object mode compilation path has been detected, this is deprecated behaviour.\n",
      "\n",
      "For more information visit http://numba.pydata.org/numba-doc/latest/reference/deprecation.html#deprecation-of-object-mode-fall-back-behaviour-when-using-jit\n",
      "\u001b[1m\n",
      "File \"<ipython-input-53-9b7c9a7e2341>\", line 6:\u001b[0m\n",
      "\u001b[1m@autojit\n",
      "\u001b[1mdef retornaDic(lista_autores, lista_names):\n",
      "\u001b[0m\u001b[1m^\u001b[0m\u001b[0m\n",
      "\u001b[0m\n",
      "  warnings.warn(errors.NumbaDeprecationWarning(msg, self.func_ir.loc))\n",
      "<ipython-input-53-9b7c9a7e2341>:5: NumbaWarning: \u001b[1m\n",
      "Compilation is falling back to object mode WITHOUT looplifting enabled because Function \"retornaDic\" failed type inference due to: \u001b[1m\u001b[1mnon-precise type pyobject\u001b[0m\n",
      "\u001b[0m\u001b[1m[1] During: typing of argument at <ipython-input-53-9b7c9a7e2341> (8)\u001b[0m\n",
      "\u001b[1m\n",
      "File \"<ipython-input-53-9b7c9a7e2341>\", line 8:\u001b[0m\n",
      "\u001b[1mdef retornaDic(lista_autores, lista_names):\n",
      "    <source elided>\n",
      "    dic = {}\n",
      "\u001b[1m    for autor in autores:\n",
      "\u001b[0m    \u001b[1m^\u001b[0m\u001b[0m\n",
      "\u001b[0m\n",
      "  @autojit\n",
      "C:\\Users\\JaimePanchana\\Anaconda3\\lib\\site-packages\\numba\\compiler.py:742: NumbaWarning: \u001b[1mFunction \"retornaDic\" was compiled in object mode without forceobj=True.\n",
      "\u001b[1m\n",
      "File \"<ipython-input-53-9b7c9a7e2341>\", line 8:\u001b[0m\n",
      "\u001b[1mdef retornaDic(lista_autores, lista_names):\n",
      "    <source elided>\n",
      "    dic = {}\n",
      "\u001b[1m    for autor in autores:\n",
      "\u001b[0m    \u001b[1m^\u001b[0m\u001b[0m\n",
      "\u001b[0m\n",
      "  self.func_ir.loc))\n",
      "C:\\Users\\JaimePanchana\\Anaconda3\\lib\\site-packages\\numba\\compiler.py:751: NumbaDeprecationWarning: \u001b[1m\n",
      "Fall-back from the nopython compilation path to the object mode compilation path has been detected, this is deprecated behaviour.\n",
      "\n",
      "For more information visit http://numba.pydata.org/numba-doc/latest/reference/deprecation.html#deprecation-of-object-mode-fall-back-behaviour-when-using-jit\n",
      "\u001b[1m\n",
      "File \"<ipython-input-53-9b7c9a7e2341>\", line 8:\u001b[0m\n",
      "\u001b[1mdef retornaDic(lista_autores, lista_names):\n",
      "    <source elided>\n",
      "    dic = {}\n",
      "\u001b[1m    for autor in autores:\n",
      "\u001b[0m    \u001b[1m^\u001b[0m\u001b[0m\n",
      "\u001b[0m\n",
      "  warnings.warn(errors.NumbaDeprecationWarning(msg, self.func_ir.loc))\n"
     ]
    },
    {
     "ename": "KeyboardInterrupt",
     "evalue": "",
     "output_type": "error",
     "traceback": [
      "\u001b[1;31m---------------------------------------------------------------------------\u001b[0m",
      "\u001b[1;31mKeyboardInterrupt\u001b[0m                         Traceback (most recent call last)",
      "\u001b[1;32m<ipython-input-54-f156df95a512>\u001b[0m in \u001b[0;36m<module>\u001b[1;34m\u001b[0m\n\u001b[0;32m      1\u001b[0m \u001b[0mstart\u001b[0m \u001b[1;33m=\u001b[0m \u001b[0mtimer\u001b[0m\u001b[1;33m(\u001b[0m\u001b[1;33m)\u001b[0m\u001b[1;33m\u001b[0m\u001b[1;33m\u001b[0m\u001b[0m\n\u001b[1;32m----> 2\u001b[1;33m \u001b[0mdiccionario\u001b[0m \u001b[1;33m=\u001b[0m \u001b[0mretornaDic\u001b[0m\u001b[1;33m(\u001b[0m\u001b[0mautores\u001b[0m\u001b[1;33m,\u001b[0m \u001b[0mnames\u001b[0m\u001b[1;33m)\u001b[0m\u001b[1;33m\u001b[0m\u001b[1;33m\u001b[0m\u001b[0m\n\u001b[0m\u001b[0;32m      3\u001b[0m \u001b[0mdt\u001b[0m \u001b[1;33m=\u001b[0m \u001b[0mtimer\u001b[0m\u001b[1;33m(\u001b[0m\u001b[1;33m)\u001b[0m \u001b[1;33m-\u001b[0m \u001b[0mstart\u001b[0m\u001b[1;33m\u001b[0m\u001b[1;33m\u001b[0m\u001b[0m\n\u001b[0;32m      4\u001b[0m \u001b[0mprint\u001b[0m\u001b[1;33m(\u001b[0m\u001b[1;34m\"Mandelbrot created in {} s\"\u001b[0m\u001b[1;33m.\u001b[0m\u001b[0mformat\u001b[0m\u001b[1;33m(\u001b[0m\u001b[0mdt\u001b[0m\u001b[1;33m)\u001b[0m\u001b[1;33m)\u001b[0m\u001b[1;33m\u001b[0m\u001b[1;33m\u001b[0m\u001b[0m\n",
      "\u001b[1;32m~\\Anaconda3\\lib\\difflib.py\u001b[0m in \u001b[0;36m__init__\u001b[1;34m(self, isjunk, a, b, autojunk)\u001b[0m\n\u001b[0;32m    211\u001b[0m         \u001b[0mself\u001b[0m\u001b[1;33m.\u001b[0m\u001b[0ma\u001b[0m \u001b[1;33m=\u001b[0m \u001b[0mself\u001b[0m\u001b[1;33m.\u001b[0m\u001b[0mb\u001b[0m \u001b[1;33m=\u001b[0m \u001b[1;32mNone\u001b[0m\u001b[1;33m\u001b[0m\u001b[1;33m\u001b[0m\u001b[0m\n\u001b[0;32m    212\u001b[0m         \u001b[0mself\u001b[0m\u001b[1;33m.\u001b[0m\u001b[0mautojunk\u001b[0m \u001b[1;33m=\u001b[0m \u001b[0mautojunk\u001b[0m\u001b[1;33m\u001b[0m\u001b[1;33m\u001b[0m\u001b[0m\n\u001b[1;32m--> 213\u001b[1;33m         \u001b[0mself\u001b[0m\u001b[1;33m.\u001b[0m\u001b[0mset_seqs\u001b[0m\u001b[1;33m(\u001b[0m\u001b[0ma\u001b[0m\u001b[1;33m,\u001b[0m \u001b[0mb\u001b[0m\u001b[1;33m)\u001b[0m\u001b[1;33m\u001b[0m\u001b[1;33m\u001b[0m\u001b[0m\n\u001b[0m\u001b[0;32m    214\u001b[0m \u001b[1;33m\u001b[0m\u001b[0m\n\u001b[0;32m    215\u001b[0m     \u001b[1;32mdef\u001b[0m \u001b[0mset_seqs\u001b[0m\u001b[1;33m(\u001b[0m\u001b[0mself\u001b[0m\u001b[1;33m,\u001b[0m \u001b[0ma\u001b[0m\u001b[1;33m,\u001b[0m \u001b[0mb\u001b[0m\u001b[1;33m)\u001b[0m\u001b[1;33m:\u001b[0m\u001b[1;33m\u001b[0m\u001b[1;33m\u001b[0m\u001b[0m\n",
      "\u001b[1;32m~\\Anaconda3\\lib\\difflib.py\u001b[0m in \u001b[0;36mset_seqs\u001b[1;34m(self, a, b)\u001b[0m\n\u001b[0;32m    223\u001b[0m \u001b[1;33m\u001b[0m\u001b[0m\n\u001b[0;32m    224\u001b[0m         \u001b[0mself\u001b[0m\u001b[1;33m.\u001b[0m\u001b[0mset_seq1\u001b[0m\u001b[1;33m(\u001b[0m\u001b[0ma\u001b[0m\u001b[1;33m)\u001b[0m\u001b[1;33m\u001b[0m\u001b[1;33m\u001b[0m\u001b[0m\n\u001b[1;32m--> 225\u001b[1;33m         \u001b[0mself\u001b[0m\u001b[1;33m.\u001b[0m\u001b[0mset_seq2\u001b[0m\u001b[1;33m(\u001b[0m\u001b[0mb\u001b[0m\u001b[1;33m)\u001b[0m\u001b[1;33m\u001b[0m\u001b[1;33m\u001b[0m\u001b[0m\n\u001b[0m\u001b[0;32m    226\u001b[0m \u001b[1;33m\u001b[0m\u001b[0m\n\u001b[0;32m    227\u001b[0m     \u001b[1;32mdef\u001b[0m \u001b[0mset_seq1\u001b[0m\u001b[1;33m(\u001b[0m\u001b[0mself\u001b[0m\u001b[1;33m,\u001b[0m \u001b[0ma\u001b[0m\u001b[1;33m)\u001b[0m\u001b[1;33m:\u001b[0m\u001b[1;33m\u001b[0m\u001b[1;33m\u001b[0m\u001b[0m\n",
      "\u001b[1;32m~\\Anaconda3\\lib\\difflib.py\u001b[0m in \u001b[0;36mset_seq2\u001b[1;34m(self, b)\u001b[0m\n\u001b[0;32m    277\u001b[0m         \u001b[0mself\u001b[0m\u001b[1;33m.\u001b[0m\u001b[0mmatching_blocks\u001b[0m \u001b[1;33m=\u001b[0m \u001b[0mself\u001b[0m\u001b[1;33m.\u001b[0m\u001b[0mopcodes\u001b[0m \u001b[1;33m=\u001b[0m \u001b[1;32mNone\u001b[0m\u001b[1;33m\u001b[0m\u001b[1;33m\u001b[0m\u001b[0m\n\u001b[0;32m    278\u001b[0m         \u001b[0mself\u001b[0m\u001b[1;33m.\u001b[0m\u001b[0mfullbcount\u001b[0m \u001b[1;33m=\u001b[0m \u001b[1;32mNone\u001b[0m\u001b[1;33m\u001b[0m\u001b[1;33m\u001b[0m\u001b[0m\n\u001b[1;32m--> 279\u001b[1;33m         \u001b[0mself\u001b[0m\u001b[1;33m.\u001b[0m\u001b[0m__chain_b\u001b[0m\u001b[1;33m(\u001b[0m\u001b[1;33m)\u001b[0m\u001b[1;33m\u001b[0m\u001b[1;33m\u001b[0m\u001b[0m\n\u001b[0m\u001b[0;32m    280\u001b[0m \u001b[1;33m\u001b[0m\u001b[0m\n\u001b[0;32m    281\u001b[0m     \u001b[1;31m# For each element x in b, set b2j[x] to a list of the indices in\u001b[0m\u001b[1;33m\u001b[0m\u001b[1;33m\u001b[0m\u001b[1;33m\u001b[0m\u001b[0m\n",
      "\u001b[1;32m~\\Anaconda3\\lib\\difflib.py\u001b[0m in \u001b[0;36m__chain_b\u001b[1;34m(self)\u001b[0m\n\u001b[0;32m    315\u001b[0m         \u001b[1;31m# Purge junk elements\u001b[0m\u001b[1;33m\u001b[0m\u001b[1;33m\u001b[0m\u001b[1;33m\u001b[0m\u001b[0m\n\u001b[0;32m    316\u001b[0m         \u001b[0mself\u001b[0m\u001b[1;33m.\u001b[0m\u001b[0mbjunk\u001b[0m \u001b[1;33m=\u001b[0m \u001b[0mjunk\u001b[0m \u001b[1;33m=\u001b[0m \u001b[0mset\u001b[0m\u001b[1;33m(\u001b[0m\u001b[1;33m)\u001b[0m\u001b[1;33m\u001b[0m\u001b[1;33m\u001b[0m\u001b[0m\n\u001b[1;32m--> 317\u001b[1;33m         \u001b[0misjunk\u001b[0m \u001b[1;33m=\u001b[0m \u001b[0mself\u001b[0m\u001b[1;33m.\u001b[0m\u001b[0misjunk\u001b[0m\u001b[1;33m\u001b[0m\u001b[1;33m\u001b[0m\u001b[0m\n\u001b[0m\u001b[0;32m    318\u001b[0m         \u001b[1;32mif\u001b[0m \u001b[0misjunk\u001b[0m\u001b[1;33m:\u001b[0m\u001b[1;33m\u001b[0m\u001b[1;33m\u001b[0m\u001b[0m\n\u001b[0;32m    319\u001b[0m             \u001b[1;32mfor\u001b[0m \u001b[0melt\u001b[0m \u001b[1;32min\u001b[0m \u001b[0mb2j\u001b[0m\u001b[1;33m.\u001b[0m\u001b[0mkeys\u001b[0m\u001b[1;33m(\u001b[0m\u001b[1;33m)\u001b[0m\u001b[1;33m:\u001b[0m\u001b[1;33m\u001b[0m\u001b[1;33m\u001b[0m\u001b[0m\n",
      "\u001b[1;31mKeyboardInterrupt\u001b[0m: "
     ]
    }
   ],
   "source": [
    "start = timer()\n",
    "diccionario = retornaDic(autores, names)\n",
    "dt = timer() - start\n",
    "print(\"Mandelbrot created in {} s\".format(dt))"
   ]
  },
  {
   "cell_type": "code",
   "execution_count": 28,
   "metadata": {},
   "outputs": [
    {
     "name": "stdout",
     "output_type": "stream",
     "text": [
      "dmitriy stolyarov|dmitriy l. stolyarov-->0.918919\n",
      "eric s. rosengren|eric rosengren-->0.903226\n",
      "david e. wildasin|david wildasin-->0.903226\n",
      "thomas j. nechyba|thomas nechyba-->0.903226\n",
      "thomas f. hellmann|thomas fellmann-->0.909091\n",
      "thomas f. hellmann|thomas hellmann-->0.909091\n",
      "joseph e. stiglitz|joseph stiglitz-->0.909091\n",
      "thierry verdier|thierry a. verdier-->0.909091\n",
      "michael kremer|michael keller-->0.857143\n",
      "michael kremer|michael kirker-->0.857143\n",
      "michael kremer|michael siemer-->0.857143\n",
      "lisa j. cameron|lisa cameron-->0.888889\n",
      "michael d. whinston|michael whinston-->0.914286\n",
      "j. mark ramseyer|john mark ramseyer-->0.882353\n",
      "eric b. rasmusen|eric rasmusen-->0.896552\n",
      "clemens j. m. kool|clemens j. m. kool-->1.000000\n",
      "bradley j. ruffle|bradley ruffle-->0.903226\n",
      "rachel mcculloch|rachel mcculloch-->0.937500\n",
      "blake lebaron|blake lebaron-->0.923077\n",
      "guillermo a. calvo|guillermo calvo-->0.909091\n",
      "carmen m. reinhart|carmen reinhart-->0.909091\n",
      "lars e. o. svensson|lars e. o. svensson-->1.000000\n",
      "frederic s. mishkin|frederic mishkin-->0.914286\n",
      "christopher d. carroll|christopher carroll-->0.926829\n",
      "christopher foote|christopher boone-->0.882353\n",
      "christopher foote|christopher lee foote-->0.894737\n",
      "christopher foote|christopher f-->0.866667\n",
      "christopher foote|christophe volonte-->0.857143\n",
      "james a. robinson|james alan robinson-->0.888889\n",
      "gordon h. hanson|gordon hanson-->0.896552\n",
      "kevin j. stiroh|kevin stiroh-->0.888889\n",
      "dale w. jorgenson|dale jorgenson-->0.903226\n",
      "steven j. davis|steven davis-->0.888889\n",
      "robert e. hall|robert hall-->0.880000\n",
      "robert e. hall|robert j. hill-->0.857143\n",
      "kevin j. murphy|kevin m. murphy-->0.933333\n",
      "kevin j. murphy|kevin murphy-->0.888889\n",
      "adam b. jaffe|adam jaffe-->0.869565\n",
      "molly macauley|molly k. macauley-->0.903226\n",
      "james m. poterba|james poterba-->0.896552\n",
      "daniel r. feenberg|daniel feenberg-->0.909091\n",
      "alan j. auerbach|alan auerbach-->0.896552\n",
      "william m. gentry|william gentry-->0.903226\n",
      "steven f. venti|steven venti-->0.888889\n",
      "james m. poterba|james poterba-->0.896552\n",
      "david a. wise|david wise-->0.869565\n",
      "patrick l. mason|patrick leon mason-->0.882353\n",
      "kenneth y. chay|kenneth s. chan-->0.866667\n",
      "kenneth y. chay|kenneth chay-->0.888889\n",
      "yuichi kitamura|yuichi kimura-->0.928571\n",
      "william johnson|will johnson-->0.888889\n",
      "william johnson|william r. johnson-->0.909091\n",
      "george j. borjas|george borjas-->0.896552\n",
      "david card|david e. card-->0.869565\n",
      "david card|david carfi-->0.857143\n",
      "david card|david clark-->0.857143\n",
      "david card|david ward-->0.900000\n",
      "robert a. moffitt|robert moffitt-->0.903226\n",
      "edward p. lazear|edward lazear-->0.896552\n",
      "david i. laibson|david laibson-->0.896552\n",
      "john mcmillan|john mcmillan-->0.923077\n",
      "thomas schelling|thomas c. schelling-->0.914286\n",
      "christopher d. carroll|christopher carroll-->0.926829\n",
      "david n. weil|david weil-->0.869565\n",
      "jeremy c. stein|jeremy stein-->0.888889\n",
      "anil k. kashyap|anil kashyap-->0.888889\n",
      "david h. romer|david romer-->0.880000\n",
      "james a. kahn|james a kahn-->0.960000\n",
      "jeroen m. swinkels|jeroen swinkels-->0.909091\n",
      "joseph e. harrington|joseph e. harrington, jr. -->0.869565\n",
      "kenneth m. kletzer|kenneth kletzer-->0.909091\n",
      "michelle r. garfinkel|michelle r garfinkel-->0.975610\n",
      "jeremy c. stein|jeremy stein-->0.888889\n",
      "david s. scharfstein|david scharfstein-->0.918919\n",
      "christopher avery|christopher n. avery-->0.918919\n",
      "stephen g. cecchetti|stephen cecchetti-->0.918919\n",
      "nelson c. mark|nelson mark-->0.880000\n",
      "david n. weil|david weil-->0.869565\n",
      "kristin j. forbes|kristin forbes-->0.903226\n",
      "matthew a. turner|matthew turner-->0.903226\n",
      "john a. list|john list-->0.857143\n",
      "simon gachter|simon gaechter-->0.962963\n",
      "simon gachter|simon lacher-->0.880000\n",
      "mark j. kamstra|mark kamstra-->0.888889\n",
      "eric van wincoop|eric van wincoop-->0.937500\n",
      "caroline m. hoxby|caroline hoxby-->0.903226\n",
      "gene m. grossman|gene grossman-->0.896552\n",
      "jeffrey r. campbell|jeffrey campbell-->0.914286\n",
      "edward p. lazear|edward lazear-->0.896552\n",
      "david card|david e. card-->0.869565\n",
      "david card|david carfi-->0.857143\n",
      "david card|david clark-->0.857143\n",
      "david card|david ward-->0.900000\n",
      "christopher j. erceg|christopher john erceg-->0.904762\n",
      "christopher j. erceg|christopher j. green-->0.850000\n",
      "michael d. bordo|michael david bordo-->0.857143\n",
      "gabriel perez-quiros|gabriel perez quiros-->0.950000\n",
      "dale w. jorgenson|dale jorgenson-->0.903226\n",
      "luism. viceira|luis m. viceira-->0.965517\n",
      "andrew b. abel|andrew abel-->0.880000\n",
      "lawrence j. christiano|lawrence christiano-->0.926829\n",
      "richard jensen|richard a. jensen-->0.903226\n",
      "joseph m. prince|joseph price-->0.857143\n",
      "kathryn l. dewenter|kathryn dewenter-->0.857143\n",
      "robert j. macculloch|robert macculloch-->0.864865\n"
     ]
    },
    {
     "ename": "KeyboardInterrupt",
     "evalue": "",
     "output_type": "error",
     "traceback": [
      "\u001b[1;31m---------------------------------------------------------------------------\u001b[0m",
      "\u001b[1;31mKeyboardInterrupt\u001b[0m                         Traceback (most recent call last)",
      "\u001b[1;32m<ipython-input-28-a46929d03119>\u001b[0m in \u001b[0;36m<module>\u001b[1;34m\u001b[0m\n\u001b[0;32m      3\u001b[0m     \u001b[1;32mfor\u001b[0m \u001b[0mname\u001b[0m\u001b[1;33m,\u001b[0m \u001b[0mindice\u001b[0m \u001b[1;32min\u001b[0m \u001b[0mnames_tuplas\u001b[0m\u001b[1;33m:\u001b[0m\u001b[1;33m\u001b[0m\u001b[1;33m\u001b[0m\u001b[0m\n\u001b[0;32m      4\u001b[0m         \u001b[0mname\u001b[0m \u001b[1;33m=\u001b[0m \u001b[0madjustString\u001b[0m\u001b[1;33m(\u001b[0m\u001b[0mname\u001b[0m\u001b[1;33m)\u001b[0m\u001b[1;33m\u001b[0m\u001b[1;33m\u001b[0m\u001b[0m\n\u001b[1;32m----> 5\u001b[1;33m         \u001b[0mprob\u001b[0m \u001b[1;33m=\u001b[0m \u001b[0msimilar\u001b[0m\u001b[1;33m(\u001b[0m\u001b[0mautor\u001b[0m\u001b[1;33m,\u001b[0m \u001b[0mname\u001b[0m\u001b[1;33m)\u001b[0m\u001b[1;33m\u001b[0m\u001b[1;33m\u001b[0m\u001b[0m\n\u001b[0m\u001b[0;32m      6\u001b[0m         \u001b[1;32mif\u001b[0m \u001b[0mprob\u001b[0m\u001b[1;33m>=\u001b[0m\u001b[1;36m0.85\u001b[0m\u001b[1;33m:\u001b[0m\u001b[1;33m\u001b[0m\u001b[1;33m\u001b[0m\u001b[0m\n\u001b[0;32m      7\u001b[0m             \u001b[0mprint\u001b[0m\u001b[1;33m(\u001b[0m\u001b[1;34m\"{}|{}-->{}\"\u001b[0m\u001b[1;33m.\u001b[0m\u001b[0mformat\u001b[0m\u001b[1;33m(\u001b[0m\u001b[0mautor\u001b[0m\u001b[1;33m.\u001b[0m\u001b[0mlower\u001b[0m\u001b[1;33m(\u001b[0m\u001b[1;33m)\u001b[0m\u001b[1;33m,\u001b[0m \u001b[0mname\u001b[0m\u001b[1;33m.\u001b[0m\u001b[0mlower\u001b[0m\u001b[1;33m(\u001b[0m\u001b[1;33m)\u001b[0m\u001b[1;33m,\u001b[0m\u001b[1;34m\"{:.6f}\"\u001b[0m\u001b[1;33m.\u001b[0m\u001b[0mformat\u001b[0m\u001b[1;33m(\u001b[0m\u001b[0mprob\u001b[0m\u001b[1;33m)\u001b[0m\u001b[1;33m)\u001b[0m\u001b[1;33m)\u001b[0m\u001b[1;33m\u001b[0m\u001b[1;33m\u001b[0m\u001b[0m\n",
      "\u001b[1;32m<ipython-input-8-d416f263e64f>\u001b[0m in \u001b[0;36msimilar\u001b[1;34m(a, b)\u001b[0m\n\u001b[0;32m      1\u001b[0m \u001b[1;32mdef\u001b[0m \u001b[0msimilar\u001b[0m\u001b[1;33m(\u001b[0m\u001b[0ma\u001b[0m\u001b[1;33m,\u001b[0m \u001b[0mb\u001b[0m\u001b[1;33m)\u001b[0m\u001b[1;33m:\u001b[0m\u001b[1;33m\u001b[0m\u001b[1;33m\u001b[0m\u001b[0m\n\u001b[1;32m----> 2\u001b[1;33m     \u001b[1;32mreturn\u001b[0m \u001b[0mSequenceMatcher\u001b[0m\u001b[1;33m(\u001b[0m\u001b[1;32mNone\u001b[0m\u001b[1;33m,\u001b[0m \u001b[0ma\u001b[0m\u001b[1;33m,\u001b[0m \u001b[0mb\u001b[0m\u001b[1;33m)\u001b[0m\u001b[1;33m.\u001b[0m\u001b[0mratio\u001b[0m\u001b[1;33m(\u001b[0m\u001b[1;33m)\u001b[0m\u001b[1;33m\u001b[0m\u001b[1;33m\u001b[0m\u001b[0m\n\u001b[0m",
      "\u001b[1;32m~\\Anaconda3\\lib\\difflib.py\u001b[0m in \u001b[0;36mratio\u001b[1;34m(self)\u001b[0m\n\u001b[0;32m    642\u001b[0m         \"\"\"\n\u001b[0;32m    643\u001b[0m \u001b[1;33m\u001b[0m\u001b[0m\n\u001b[1;32m--> 644\u001b[1;33m         \u001b[0mmatches\u001b[0m \u001b[1;33m=\u001b[0m \u001b[0msum\u001b[0m\u001b[1;33m(\u001b[0m\u001b[0mtriple\u001b[0m\u001b[1;33m[\u001b[0m\u001b[1;33m-\u001b[0m\u001b[1;36m1\u001b[0m\u001b[1;33m]\u001b[0m \u001b[1;32mfor\u001b[0m \u001b[0mtriple\u001b[0m \u001b[1;32min\u001b[0m \u001b[0mself\u001b[0m\u001b[1;33m.\u001b[0m\u001b[0mget_matching_blocks\u001b[0m\u001b[1;33m(\u001b[0m\u001b[1;33m)\u001b[0m\u001b[1;33m)\u001b[0m\u001b[1;33m\u001b[0m\u001b[1;33m\u001b[0m\u001b[0m\n\u001b[0m\u001b[0;32m    645\u001b[0m         \u001b[1;32mreturn\u001b[0m \u001b[0m_calculate_ratio\u001b[0m\u001b[1;33m(\u001b[0m\u001b[0mmatches\u001b[0m\u001b[1;33m,\u001b[0m \u001b[0mlen\u001b[0m\u001b[1;33m(\u001b[0m\u001b[0mself\u001b[0m\u001b[1;33m.\u001b[0m\u001b[0ma\u001b[0m\u001b[1;33m)\u001b[0m \u001b[1;33m+\u001b[0m \u001b[0mlen\u001b[0m\u001b[1;33m(\u001b[0m\u001b[0mself\u001b[0m\u001b[1;33m.\u001b[0m\u001b[0mb\u001b[0m\u001b[1;33m)\u001b[0m\u001b[1;33m)\u001b[0m\u001b[1;33m\u001b[0m\u001b[1;33m\u001b[0m\u001b[0m\n\u001b[0;32m    646\u001b[0m \u001b[1;33m\u001b[0m\u001b[0m\n",
      "\u001b[1;32m~\\Anaconda3\\lib\\difflib.py\u001b[0m in \u001b[0;36mget_matching_blocks\u001b[1;34m(self)\u001b[0m\n\u001b[0;32m    477\u001b[0m         \u001b[1;32mwhile\u001b[0m \u001b[0mqueue\u001b[0m\u001b[1;33m:\u001b[0m\u001b[1;33m\u001b[0m\u001b[1;33m\u001b[0m\u001b[0m\n\u001b[0;32m    478\u001b[0m             \u001b[0malo\u001b[0m\u001b[1;33m,\u001b[0m \u001b[0mahi\u001b[0m\u001b[1;33m,\u001b[0m \u001b[0mblo\u001b[0m\u001b[1;33m,\u001b[0m \u001b[0mbhi\u001b[0m \u001b[1;33m=\u001b[0m \u001b[0mqueue\u001b[0m\u001b[1;33m.\u001b[0m\u001b[0mpop\u001b[0m\u001b[1;33m(\u001b[0m\u001b[1;33m)\u001b[0m\u001b[1;33m\u001b[0m\u001b[1;33m\u001b[0m\u001b[0m\n\u001b[1;32m--> 479\u001b[1;33m             \u001b[0mi\u001b[0m\u001b[1;33m,\u001b[0m \u001b[0mj\u001b[0m\u001b[1;33m,\u001b[0m \u001b[0mk\u001b[0m \u001b[1;33m=\u001b[0m \u001b[0mx\u001b[0m \u001b[1;33m=\u001b[0m \u001b[0mself\u001b[0m\u001b[1;33m.\u001b[0m\u001b[0mfind_longest_match\u001b[0m\u001b[1;33m(\u001b[0m\u001b[0malo\u001b[0m\u001b[1;33m,\u001b[0m \u001b[0mahi\u001b[0m\u001b[1;33m,\u001b[0m \u001b[0mblo\u001b[0m\u001b[1;33m,\u001b[0m \u001b[0mbhi\u001b[0m\u001b[1;33m)\u001b[0m\u001b[1;33m\u001b[0m\u001b[1;33m\u001b[0m\u001b[0m\n\u001b[0m\u001b[0;32m    480\u001b[0m             \u001b[1;31m# a[alo:i] vs b[blo:j] unknown\u001b[0m\u001b[1;33m\u001b[0m\u001b[1;33m\u001b[0m\u001b[1;33m\u001b[0m\u001b[0m\n\u001b[0;32m    481\u001b[0m             \u001b[1;31m# a[i:i+k] same as b[j:j+k]\u001b[0m\u001b[1;33m\u001b[0m\u001b[1;33m\u001b[0m\u001b[1;33m\u001b[0m\u001b[0m\n",
      "\u001b[1;32m~\\Anaconda3\\lib\\difflib.py\u001b[0m in \u001b[0;36mfind_longest_match\u001b[1;34m(self, alo, ahi, blo, bhi)\u001b[0m\n\u001b[0;32m    411\u001b[0m                 \u001b[1;32mif\u001b[0m \u001b[0mk\u001b[0m \u001b[1;33m>\u001b[0m \u001b[0mbestsize\u001b[0m\u001b[1;33m:\u001b[0m\u001b[1;33m\u001b[0m\u001b[1;33m\u001b[0m\u001b[0m\n\u001b[0;32m    412\u001b[0m                     \u001b[0mbesti\u001b[0m\u001b[1;33m,\u001b[0m \u001b[0mbestj\u001b[0m\u001b[1;33m,\u001b[0m \u001b[0mbestsize\u001b[0m \u001b[1;33m=\u001b[0m \u001b[0mi\u001b[0m\u001b[1;33m-\u001b[0m\u001b[0mk\u001b[0m\u001b[1;33m+\u001b[0m\u001b[1;36m1\u001b[0m\u001b[1;33m,\u001b[0m \u001b[0mj\u001b[0m\u001b[1;33m-\u001b[0m\u001b[0mk\u001b[0m\u001b[1;33m+\u001b[0m\u001b[1;36m1\u001b[0m\u001b[1;33m,\u001b[0m \u001b[0mk\u001b[0m\u001b[1;33m\u001b[0m\u001b[1;33m\u001b[0m\u001b[0m\n\u001b[1;32m--> 413\u001b[1;33m             \u001b[0mj2len\u001b[0m \u001b[1;33m=\u001b[0m \u001b[0mnewj2len\u001b[0m\u001b[1;33m\u001b[0m\u001b[1;33m\u001b[0m\u001b[0m\n\u001b[0m\u001b[0;32m    414\u001b[0m \u001b[1;33m\u001b[0m\u001b[0m\n\u001b[0;32m    415\u001b[0m         \u001b[1;31m# Extend the best by non-junk elements on each end.  In particular,\u001b[0m\u001b[1;33m\u001b[0m\u001b[1;33m\u001b[0m\u001b[1;33m\u001b[0m\u001b[0m\n",
      "\u001b[1;31mKeyboardInterrupt\u001b[0m: "
     ]
    }
   ],
   "source": [
    "for autor in autores:\n",
    "    autor = adjustString(autor)\n",
    "    for name, indice in names_tuplas:\n",
    "        name = adjustString(name)\n",
    "        prob = similar(autor, name)\n",
    "        if prob>=0.85:\n",
    "            print(\"{}|{}-->{}\".format(autor.lower(), name.lower(),\"{:.6f}\".format(prob)))\n",
    "            #lista_autor = autor.split(\" \")\n",
    "            #lista_name = name.split(\" \")\n",
    "            "
   ]
  },
  {
   "cell_type": "code",
   "execution_count": 131,
   "metadata": {},
   "outputs": [],
   "source": [
    "for name, indice in names_tuplas:\n",
    "    name_lista = name.split(\" \")"
   ]
  },
  {
   "cell_type": "code",
   "execution_count": 155,
   "metadata": {},
   "outputs": [
    {
     "data": {
      "text/plain": [
       "0.5"
      ]
     },
     "execution_count": 155,
     "metadata": {},
     "output_type": "execute_result"
    }
   ],
   "source": [
    "similar(\"L\", \"Lee\")"
   ]
  },
  {
   "cell_type": "code",
   "execution_count": 153,
   "metadata": {},
   "outputs": [
    {
     "data": {
      "text/plain": [
       "0.9333333333333333"
      ]
     },
     "execution_count": 153,
     "metadata": {},
     "output_type": "execute_result"
    }
   ],
   "source": [
    "similar(\"Gachter\", \"Gaechter\")"
   ]
  },
  {
   "cell_type": "code",
   "execution_count": 197,
   "metadata": {},
   "outputs": [
    {
     "data": {
      "text/plain": [
       "0.5"
      ]
     },
     "execution_count": 197,
     "metadata": {},
     "output_type": "execute_result"
    }
   ],
   "source": [
    "similar(\"Card\", \"Acrd\")"
   ]
  },
  {
   "cell_type": "code",
   "execution_count": 196,
   "metadata": {},
   "outputs": [
    {
     "data": {
      "text/plain": [
       "0.6666666666666666"
      ]
     },
     "execution_count": 196,
     "metadata": {},
     "output_type": "execute_result"
    }
   ],
   "source": [
    "similar(\"Kremer\", \"Keller\")"
   ]
  },
  {
   "cell_type": "code",
   "execution_count": 152,
   "metadata": {},
   "outputs": [
    {
     "data": {
      "text/plain": [
       "1.0"
      ]
     },
     "execution_count": 152,
     "metadata": {},
     "output_type": "execute_result"
    }
   ],
   "source": [
    "similar(\"Card\", \"Card\")"
   ]
  },
  {
   "cell_type": "code",
   "execution_count": null,
   "metadata": {},
   "outputs": [],
   "source": [
    "William Johnson | Will Johnson --> 0.888889\n",
    "William Johnson | William R. Johnson"
   ]
  },
  {
   "cell_type": "code",
   "execution_count": null,
   "metadata": {},
   "outputs": [],
   "source": [
    "David Card | David E. Card --> 0.869565\n",
    "David Card | David Carfi --> 0.857143\n",
    "David Card | David Clark --> 0.857143\n",
    "David Card | David Ward --> 0.900000"
   ]
  },
  {
   "cell_type": "code",
   "execution_count": null,
   "metadata": {},
   "outputs": [],
   "source": [
    "Kevin J. Murphy | Kevin M. Murphy \n",
    "Thomas F. Hellmann | Thomas Fellmann"
   ]
  },
  {
   "cell_type": "code",
   "execution_count": 192,
   "metadata": {},
   "outputs": [],
   "source": [
    "l1, l2 = \"Thomas F. Fellmann\".split(\" \"), \"Thomas Fellmann\".split(\" \")"
   ]
  },
  {
   "cell_type": "code",
   "execution_count": 193,
   "metadata": {},
   "outputs": [
    {
     "data": {
      "text/plain": [
       "['Thomas', 'F.', 'Fellmann']"
      ]
     },
     "execution_count": 193,
     "metadata": {},
     "output_type": "execute_result"
    }
   ],
   "source": [
    "l1"
   ]
  },
  {
   "cell_type": "code",
   "execution_count": 194,
   "metadata": {},
   "outputs": [
    {
     "data": {
      "text/plain": [
       "['Thomas', 'Fellmann']"
      ]
     },
     "execution_count": 194,
     "metadata": {},
     "output_type": "execute_result"
    }
   ],
   "source": [
    "l2"
   ]
  },
  {
   "cell_type": "code",
   "execution_count": 195,
   "metadata": {},
   "outputs": [
    {
     "name": "stdout",
     "output_type": "stream",
     "text": [
      "Thomas Thomas\n",
      "1.0\n",
      "\n",
      "Thomas Fellmann\n",
      "0.2857142857142857\n",
      "\n",
      "F. Thomas\n",
      "0.0\n",
      "\n",
      "F. Fellmann\n",
      "0.2\n",
      "\n",
      "Fellmann Thomas\n",
      "0.2857142857142857\n",
      "\n",
      "Fellmann Fellmann\n",
      "1.0\n",
      "\n"
     ]
    }
   ],
   "source": [
    "for cadena_1 in l1:\n",
    "    for cadena_2 in l2:\n",
    "        print(cadena_1, cadena_2)\n",
    "        nn = similar(cadena_1, cadena_2)\n",
    "        print(nn)\n",
    "        print()"
   ]
  },
  {
   "cell_type": "code",
   "execution_count": null,
   "metadata": {},
   "outputs": [],
   "source": []
  },
  {
   "cell_type": "code",
   "execution_count": null,
   "metadata": {},
   "outputs": [],
   "source": []
  }
 ],
 "metadata": {
  "kernelspec": {
   "display_name": "Python 3",
   "language": "python",
   "name": "python3"
  },
  "language_info": {
   "codemirror_mode": {
    "name": "ipython",
    "version": 3
   },
   "file_extension": ".py",
   "mimetype": "text/x-python",
   "name": "python",
   "nbconvert_exporter": "python",
   "pygments_lexer": "ipython3",
   "version": "3.8.5"
  }
 },
 "nbformat": 4,
 "nbformat_minor": 4
}
