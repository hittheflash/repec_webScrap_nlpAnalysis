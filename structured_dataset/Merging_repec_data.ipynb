{
 "cells": [
  {
   "cell_type": "code",
   "execution_count": null,
   "metadata": {},
   "outputs": [],
   "source": [
    "import numpy as np\n",
    "import pandas as pd\n",
    "import utills\n",
    "import os"
   ]
  },
  {
   "cell_type": "code",
   "execution_count": null,
   "metadata": {},
   "outputs": [],
   "source": [
    "letras = [i for i in os.listdir() if \".\" not in i]\n",
    "total = 0\n",
    "for letra in letras:\n",
    "    n = len(os.listdir(letra))\n",
    "    total+=n\n",
    "    print(\"{} contiene {} archivos.\".format(letra, n))\n",
    "print(\"Total\", total)"
   ]
  },
  {
   "cell_type": "code",
   "execution_count": null,
   "metadata": {},
   "outputs": [],
   "source": [
    "len(os.listdir(\"B\"))"
   ]
  },
  {
   "cell_type": "code",
   "execution_count": null,
   "metadata": {},
   "outputs": [],
   "source": [
    "len(list(set(os.listdir(\"B\"))))"
   ]
  },
  {
   "cell_type": "code",
   "execution_count": null,
   "metadata": {},
   "outputs": [],
   "source": [
    "df= pd.read_csv(r'C:\\Users\\lfsanche\\Dropbox\\Working_papers\\Academic_Network\\From Jean Paul\\rdfs\\autores_repec_rdf_v2.csv', delimiter = '|', error_bad_lines=False)"
   ]
  },
  {
   "cell_type": "code",
   "execution_count": null,
   "metadata": {},
   "outputs": [],
   "source": [
    "[i for i in os.listdir() if i.endswith(\"v\")]"
   ]
  },
  {
   "cell_type": "code",
   "execution_count": null,
   "metadata": {},
   "outputs": [],
   "source": [
    "utills.clean_string(\"b'a\")"
   ]
  },
  {
   "cell_type": "code",
   "execution_count": null,
   "metadata": {},
   "outputs": [],
   "source": [
    "BIG2 = open(\"autores_repec_rdf_v2.csv\", \"r\")\n",
    "#BIG3 = open(\"autores_repec_rdf_v3.csv\", \"w\")\n",
    "#BIG3.write(\"Name-First|Name-Last|Name-Full|Name-ASCII|Workplace-Name|Workplace-Institution|Email|Homepage|tipo|repec|Short-Id|Handle|Last-Login-Date|Registered-Date\\n\")\n",
    "encabezado = \"Name-First|Name-Last|Name-Full|Name-ASCII|Workplace-Name|Workplace-Institution|Email|Homepage|tipo|repec|Short-Id|Handle|Last-Login-Date|Registered-Date\".split(\"|\")"
   ]
  },
  {
   "cell_type": "code",
   "execution_count": null,
   "metadata": {},
   "outputs": [],
   "source": [
    "lineas = BIG2.readlines()\n",
    "data = []\n",
    "for linea in lineas[1:]:\n",
    "    cadena = utills.clean_string(linea)[0]\n",
    "    cadena = cadena.replace(\"'\", '')\n",
    "    cadena = cadena.replace(\".rdf|\", '|')\n",
    "    data.append(cadena.split(('|')))\n",
    "    #BIG3.write(cadena + \"\\n\")"
   ]
  },
  {
   "cell_type": "code",
   "execution_count": null,
   "metadata": {},
   "outputs": [],
   "source": [
    "BIG2.close()\n",
    "BIG3.close()"
   ]
  },
  {
   "cell_type": "code",
   "execution_count": null,
   "metadata": {},
   "outputs": [],
   "source": [
    "datas = pd.DataFrame(data)\n",
    "datas.columns = encabezado\n",
    "datas"
   ]
  },
  {
   "cell_type": "code",
   "execution_count": null,
   "metadata": {},
   "outputs": [],
   "source": [
    "no_info = open('no_info_repec.csv', 'r')\n",
    "linea = no_info.readline()\n",
    "conj_noInfo = set()\n",
    "while len(linea)!=0:\n",
    "    linea = linea.strip()\n",
    "    if \".rdf\" in linea:\n",
    "        idd = linea.split(\".\")[0]\n",
    "        conj_noInfo.add(idd)\n",
    "    linea = no_info.readline()"
   ]
  },
  {
   "cell_type": "code",
   "execution_count": null,
   "metadata": {},
   "outputs": [],
   "source": [
    "ids = datas['Short-Id'].drop_duplicates()\n",
    "ids"
   ]
  },
  {
   "cell_type": "code",
   "execution_count": null,
   "metadata": {},
   "outputs": [],
   "source": [
    "conj_info = set(ids)"
   ]
  },
  {
   "cell_type": "code",
   "execution_count": null,
   "metadata": {},
   "outputs": [],
   "source": [
    "info_noInfo = conj_info.union(conj_noInfo)"
   ]
  },
  {
   "cell_type": "code",
   "execution_count": null,
   "metadata": {},
   "outputs": [],
   "source": [
    "letras = [i for i in os.listdir() if \".\" not in i][:-1]\n",
    "conj_rdf = set()\n",
    "for letra in letras:\n",
    "    rdfs = os.listdir(letra)\n",
    "    for rdf in rdfs:\n",
    "        rdf = rdf.split(\".\")[0]\n",
    "        conj_rdf.add(rdf)"
   ]
  },
  {
   "cell_type": "code",
   "execution_count": null,
   "metadata": {},
   "outputs": [],
   "source": [
    "set([1, 2, 3]) - set([1, 2])"
   ]
  },
  {
   "cell_type": "code",
   "execution_count": null,
   "metadata": {},
   "outputs": [],
   "source": [
    "print(len(conj_rdf))\n",
    "print(len(info_noInfo))\n",
    "print(len((conj_rdf - info_noInfo)))"
   ]
  },
  {
   "cell_type": "code",
   "execution_count": null,
   "metadata": {},
   "outputs": [],
   "source": [
    "diff = conj_rdf - info_noInfo"
   ]
  },
  {
   "cell_type": "code",
   "execution_count": null,
   "metadata": {},
   "outputs": [],
   "source": [
    "len(no_rdf)"
   ]
  },
  {
   "cell_type": "code",
   "execution_count": null,
   "metadata": {},
   "outputs": [],
   "source": [
    "len(datos_list)"
   ]
  },
  {
   "cell_type": "code",
   "execution_count": null,
   "metadata": {},
   "outputs": [],
   "source": [
    "datas3 = pd.DataFrame(datos_list)\n",
    "datas3.head(10)"
   ]
  },
  {
   "cell_type": "code",
   "execution_count": null,
   "metadata": {},
   "outputs": [],
   "source": [
    "#print(diff)"
   ]
  },
  {
   "cell_type": "code",
   "execution_count": null,
   "metadata": {},
   "outputs": [],
   "source": [
    "datas.columns\n",
    "datas['Short-Id'].isnull().sum()"
   ]
  },
  {
   "cell_type": "code",
   "execution_count": null,
   "metadata": {},
   "outputs": [],
   "source": []
  },
  {
   "cell_type": "code",
   "execution_count": null,
   "metadata": {},
   "outputs": [],
   "source": [
    "df.columns\n",
    "df['Short-Id'].isnull().sum()"
   ]
  },
  {
   "cell_type": "code",
   "execution_count": null,
   "metadata": {},
   "outputs": [],
   "source": [
    "df"
   ]
  },
  {
   "cell_type": "code",
   "execution_count": null,
   "metadata": {},
   "outputs": [],
   "source": [
    "df1=df.drop(columns=[\"Name-First\",'Name-Last',\"Workplace-Name\",\"Workplace-Institution\",\"Email\",\"Homepage\",\"tipo\",\"repec\",\"Handle\",\"Last-Login-Date\",\"Registered-Date\"])"
   ]
  },
  {
   "cell_type": "code",
   "execution_count": null,
   "metadata": {},
   "outputs": [],
   "source": [
    "df1['Name']=df['Name-Full'].mask(pd.isnull, df['Name-ASCII'])\n",
    "df1.tail(5)"
   ]
  },
  {
   "cell_type": "code",
   "execution_count": null,
   "metadata": {},
   "outputs": [],
   "source": [
    "df2=df1.drop(['Name-Full','Name-ASCII'], axis=1)"
   ]
  },
  {
   "cell_type": "code",
   "execution_count": null,
   "metadata": {},
   "outputs": [],
   "source": [
    "null_data = df1[pd.notnull(df1['Name-ASCII'])]"
   ]
  },
  {
   "cell_type": "code",
   "execution_count": null,
   "metadata": {},
   "outputs": [],
   "source": [
    "df2.tail()"
   ]
  },
  {
   "cell_type": "code",
   "execution_count": null,
   "metadata": {},
   "outputs": [],
   "source": [
    "df3=df2.drop_duplicates(subset = [\"Name\"], keep = False)"
   ]
  },
  {
   "cell_type": "code",
   "execution_count": null,
   "metadata": {},
   "outputs": [],
   "source": [
    "df3.sort_values(\"Short-Id\", inplace = True)"
   ]
  },
  {
   "cell_type": "code",
   "execution_count": null,
   "metadata": {},
   "outputs": [],
   "source": [
    "df3['Short-Id'].isnull().sum()"
   ]
  },
  {
   "cell_type": "code",
   "execution_count": null,
   "metadata": {},
   "outputs": [],
   "source": [
    "df3.tail(20)\n",
    "df.loc[df['Name-ASCII'] == 'Kubilay M Ozturk']"
   ]
  },
  {
   "cell_type": "code",
   "execution_count": null,
   "metadata": {},
   "outputs": [],
   "source": []
  }
 ],
 "metadata": {
  "kernelspec": {
   "display_name": "Python 3",
   "language": "python",
   "name": "python3"
  },
  "language_info": {
   "codemirror_mode": {
    "name": "ipython",
    "version": 3
   },
   "file_extension": ".py",
   "mimetype": "text/x-python",
   "name": "python",
   "nbconvert_exporter": "python",
   "pygments_lexer": "ipython3",
   "version": "3.8.5"
  }
 },
 "nbformat": 4,
 "nbformat_minor": 4
}
