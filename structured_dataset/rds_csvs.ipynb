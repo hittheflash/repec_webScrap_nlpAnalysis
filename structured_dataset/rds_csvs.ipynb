{
 "cells": [
  {
   "cell_type": "code",
   "execution_count": 1,
   "metadata": {},
   "outputs": [],
   "source": [
    "import os\n",
    "import codecs\n",
    "import utills"
   ]
  },
  {
   "cell_type": "code",
   "execution_count": 2,
   "metadata": {},
   "outputs": [
    {
     "data": {
      "text/plain": [
       "[]"
      ]
     },
     "execution_count": 2,
     "metadata": {},
     "output_type": "execute_result"
    }
   ],
   "source": [
    "[i for i in os.listdir() if i.endswith(\"f\")]"
   ]
  },
  {
   "cell_type": "code",
   "execution_count": 3,
   "metadata": {},
   "outputs": [],
   "source": [
    "datos = [\"\",\"\",\"\",\"\",\"\",\"\",\"\",\"\",[],\"\",\"\",\"\",\"\"]"
   ]
  },
  {
   "cell_type": "code",
   "execution_count": 4,
   "metadata": {},
   "outputs": [],
   "source": [
    "formato = [\"Name-First\", \"Name-Last\", \"Name-Full\", \"Name-ASCII\", \n",
    "           \"Workplace-Name\", \"Workplace-Institution\", \n",
    "           \"Email\", \"Homepage\", \"tipo|repec\",\n",
    "           \"Short-Id\", \"Handle\", \"Last-Login-Date\",\n",
    "           \"Registered-Date\"]"
   ]
  },
  {
   "cell_type": "code",
   "execution_count": 5,
   "metadata": {},
   "outputs": [
    {
     "data": {
      "text/plain": [
       "'Name-First|Name-Last|Name-Full|Name-ASCII|Workplace-Name|Workplace-Institution|Email|Homepage|tipo|repec|Short-Id|Handle|Last-Login-Date|Registered-Date'"
      ]
     },
     "execution_count": 5,
     "metadata": {},
     "output_type": "execute_result"
    }
   ],
   "source": [
    "encabezado = \"|\".join(formato)\n",
    "encabezado"
   ]
  },
  {
   "cell_type": "code",
   "execution_count": null,
   "metadata": {},
   "outputs": [],
   "source": [
    "archivo_rdf"
   ]
  },
  {
   "cell_type": "code",
   "execution_count": null,
   "metadata": {},
   "outputs": [],
   "source": [
    "lineas_rdf('A/pab192.rdf')"
   ]
  },
  {
   "cell_type": "code",
   "execution_count": null,
   "metadata": {},
   "outputs": [],
   "source": [
    "def lineas_rdf(archivo_rdf):\n",
    "    file = open(archivo_rdf, \"r\", encoding = 'utf-8')\n",
    "    linea = file.readline()\n",
    "    #linea = utills.clean_string(linea)\n",
    "    #linea = linea[0]\n",
    "    datos = [\"\",\"\",\"\",\"\",\"\",\"\",\"\",\"\",[],\"\",\"\",\"\",\"\"]\n",
    "    while len(linea)!=0:\n",
    "        #print(linea)\n",
    "        if linea.startswith(\"Name-First\"):\n",
    "            nombre1 = linea.split(\":\")[-1].strip()\n",
    "            #print(nombre1)\n",
    "            datos[0] = nombre1\n",
    "            #print(\"Nombre:{}\".format(nombre1))\n",
    "\n",
    "        if linea.startswith(\"Name-Last:\"):\n",
    "            nombre2 = linea.split(\":\")[-1].strip()\n",
    "            datos[1] = nombre2\n",
    "            #print(\"Last:{}\".format(nombre2))\n",
    "\n",
    "        if linea.startswith(\"Name-Full\"):\n",
    "            full = linea.split(\":\")[-1].strip()\n",
    "            datos[2] = full\n",
    "            #print(\"Full:{}\".format(full))\n",
    "\n",
    "        if linea.startswith(\"Name-ASCII\"):\n",
    "            aascii = linea.split(\":\")[-1].strip()\n",
    "            datos[3] = aascii\n",
    "            #print(\"aascii:{}\".format(aascii))\n",
    "\n",
    "        #try:\n",
    "        if linea.startswith(\"Name-Full\"):\n",
    "            full = linea.split(\":\")[-1].strip()\n",
    "            datos[2] = full\n",
    "            #print(\"Full:{}\".format(full))\n",
    "                \n",
    "        #except NameError:\n",
    "            \n",
    "        if linea.startswith(\"Name-ASCII\"):\n",
    "            aascii = linea.split(\":\")[-1].strip()\n",
    "            datos[3] = aascii\n",
    "            #print(\"aascii:{}\".format(aascii))\n",
    "        #except:\n",
    "        #    print(\"Unexpected error:\", sys.exc_info()[0])\n",
    "\n",
    "        if linea.startswith(\"Email:\"):\n",
    "            email = linea.split(\":\")[-1].strip()\n",
    "            datos[6] = email\n",
    "            #print(\"email:{}\".format(email))\n",
    "\n",
    "        if linea.startswith(\"Homepage: \"):\n",
    "            homepage = linea.split(\": \")[-1].strip()\n",
    "            datos[7] = homepage\n",
    "            #print(\"homepage:{}\".format(homepage))\n",
    "\n",
    "        if linea.startswith(\"author\") or linea.startswith(\"editor\"):\n",
    "            tipo = linea.split(\": \")[0].strip()\n",
    "            repec = linea.split(\": \")[-1].strip()\n",
    "            datos[8].append([\"{}|{}\".format(tipo,repec)])\n",
    "            #print(\"{}:{}\".format(tipo, repec))\n",
    "\n",
    "        if linea.startswith(\"Short-Id: \"):\n",
    "            idd = linea.split(\": \")[-1].strip()\n",
    "            datos[9] = idd\n",
    "            #print(\"idd:{}\".format(idd))\n",
    "\n",
    "        if linea.startswith(\"Handle\"):\n",
    "            handle = linea.split(\": \")[-1].strip()\n",
    "            datos[10] = handle\n",
    "            #print(\"handle:{}\".format(handle))\n",
    "\n",
    "        if linea.startswith(\"Last-Login-Date\"):\n",
    "            login = linea.split(\": \")[-1].strip()\n",
    "            datos[11] = login\n",
    "            #print(\"login:{}\".format(login))\n",
    "\n",
    "        if linea.startswith(\"Registered-Date\"):\n",
    "            registered = linea.split(\": \")[-1].strip()\n",
    "            datos[12] = registered\n",
    "            #print(\"registered:{}\".format(registered))\n",
    "\n",
    "        linea = file.readline()\n",
    "    file.close()\n",
    "    return datos"
   ]
  },
  {
   "cell_type": "code",
   "execution_count": null,
   "metadata": {},
   "outputs": [],
   "source": [
    "lineas_rdf(\"A/par151.rdf\")"
   ]
  },
  {
   "cell_type": "code",
   "execution_count": null,
   "metadata": {},
   "outputs": [],
   "source": [
    "BIG = open(\"autores_repec_rdf.csv\", \"w\")\n",
    "NO_INFO = open('no_info_repec.csv', 'w')"
   ]
  },
  {
   "cell_type": "code",
   "execution_count": null,
   "metadata": {},
   "outputs": [],
   "source": [
    "for tipos in datos[8]:\n",
    "    listx = datos[:8] + tipos + datos[9:]\n",
    "    #print(listx)\n",
    "    linea = \"|\".join(listx) + '\\n'\n",
    "    #print(linea)"
   ]
  },
  {
   "cell_type": "code",
   "execution_count": null,
   "metadata": {},
   "outputs": [],
   "source": [
    "0.5*((0.75/(6))**0.5)"
   ]
  },
  {
   "cell_type": "code",
   "execution_count": null,
   "metadata": {},
   "outputs": [],
   "source": [
    "archivos"
   ]
  },
  {
   "cell_type": "code",
   "execution_count": null,
   "metadata": {},
   "outputs": [],
   "source": [
    "letras = [i for i in os.listdir() if '.' not in i]\n",
    "for letra in letras:\n",
    "    archivos = os.listdir(letra)\n",
    "    for archivo in archivos:\n",
    "        dir1 = letra + '/' + archivo\n",
    "        print(dir1)\n",
    "        datos = lineas_rdf(dir1)\n",
    "        lista_articulos = datos[8]\n",
    "        if len(lista_articulos)>0:\n",
    "            if len(datos[3])>0:\n",
    "                datos[9]=''\n",
    "                datos[1]=''\n",
    "                datos[2]=''\n",
    "                #print('ascii:',datos[3])\n",
    "                for tipos in datos[8]:\n",
    "                    listx = datos[:8] + tipos + datos[9:]\n",
    "                    #print(listx)\n",
    "                    linea = \"|\".join(listx)\n",
    "                    #print(linea)\n",
    "                    BIG.write(str(linea.encode('utf8')) + '\\n')\n",
    "                #print(linea)\n",
    "            else:\n",
    "                #print('no ascii:',datos[3])\n",
    "                for tipos in datos[8]:\n",
    "                    listx = datos[:8] + tipos + datos[9:]\n",
    "                    #print(listx)\n",
    "                    linea = \"|\".join(listx)\n",
    "                    #print(linea)\n",
    "                    BIG.write(str(linea.encode('utf8'))+ '\\n')\n",
    "                #print(linea)\n",
    "                \n",
    "        else:\n",
    "            NO_INFO.write(dir1 + '\\n')\n"
   ]
  },
  {
   "cell_type": "code",
   "execution_count": null,
   "metadata": {},
   "outputs": [],
   "source": [
    "archivos = [\"A/par151.rdf\"]\n",
    "for archivo in archivos:\n",
    "    datos = lineas_rdf(archivo)\n",
    "    lista_articulos = datos[8]\n",
    "    if len(lista_articulos)>0:\n",
    "        if len(datos[3])>0:\n",
    "            datos[9]=''\n",
    "            datos[1]=''\n",
    "            datos[2]=''\n",
    "            for tipos in datos[8]:\n",
    "                listx = datos[:8] + tipos + datos[9:]\n",
    "                #print(listx)\n",
    "                linea = \"|\".join(listx)\n",
    "                print(linea)\n",
    "                #BIG.write(str(linea.encode('utf8')) + '\\n')\n",
    "            #print(linea)\n",
    "        else:\n",
    "            #print('no ascii:',datos[3])\n",
    "            for tipos in datos[8]:\n",
    "                listx = datos[:8] + tipos + datos[9:]\n",
    "                #print(listx)\n",
    "                linea = \"|\".join(listx)\n",
    "                print(linea)\n",
    "                #BIG.write(str(linea.encode('utf8'))+ '\\n')\n",
    "            #print(linea)\n",
    "\n",
    "    else:\n",
    "        #NO_INFO.write(dir1 + '\\n')\n",
    "        print(archivo)"
   ]
  },
  {
   "cell_type": "code",
   "execution_count": null,
   "metadata": {},
   "outputs": [],
   "source": [
    "archivo"
   ]
  },
  {
   "cell_type": "code",
   "execution_count": null,
   "metadata": {},
   "outputs": [],
   "source": [
    "BIG = open(\"autores_repec_rdf.csv\", \"a+\")\n",
    "NO_INFO = open('no_info_repec.csv', 'a+')"
   ]
  },
  {
   "cell_type": "code",
   "execution_count": null,
   "metadata": {},
   "outputs": [],
   "source": [
    "archivos = ['Z/pzy9.rdf','Z/pzy10.rdf','Z/pzy12.rdf','Z/pzy13.rdf','Z/pzy15.rdf','Z/pzy16.rdf','Z/pzy17.rdf']\n",
    "\n",
    "for archivo in archivos:\n",
    "#     dir1 = letra + '/' + archivo\n",
    "#     print(dir1)\n",
    "    datos = lineas_rdf(archivo)\n",
    "    lista_articulos = datos[8]\n",
    "    if len(lista_articulos)>0:\n",
    "        if len(datos[3])>0:\n",
    "            datos[9]=''\n",
    "            datos[1]=''\n",
    "            datos[2]=''\n",
    "            #print('ascii:',datos[3])\n",
    "            for tipos in datos[8]:\n",
    "                listx = datos[:8] + tipos + datos[9:]\n",
    "                #print(listx)\n",
    "                linea = \"|\".join(listx)\n",
    "                #print(linea)\n",
    "                BIG.write(str(linea.encode('utf8')) + '\\n')\n",
    "            #print(linea)\n",
    "        else:\n",
    "            #print('no ascii:',datos[3])\n",
    "            for tipos in datos[8]:\n",
    "                listx = datos[:8] + tipos + datos[9:]\n",
    "                #print(listx)\n",
    "                linea = \"|\".join(listx)\n",
    "                #print(linea)\n",
    "                BIG.write(str(linea.encode('utf8'))+ '\\n')\n",
    "            #print(linea)\n",
    "\n",
    "    else:\n",
    "        NO_INFO.write(dir1 + '\\n')"
   ]
  },
  {
   "cell_type": "code",
   "execution_count": null,
   "metadata": {},
   "outputs": [],
   "source": [
    "BIG.close()\n",
    "NO_INFO.close()"
   ]
  },
  {
   "cell_type": "code",
   "execution_count": null,
   "metadata": {},
   "outputs": [],
   "source": [
    "formato =  \"Name-First|Name-Last|Name-Full|Name-ASCII|Workplace-Name|Workplace-Institution|Email|Homepage|tipo|repec|Short-Id|Handle|Last-Login-Date|Registered-Date\"\n",
    "\n",
    "BIG=open('autores_repec_rdf.csv','r')\n",
    "lineas = BIG.readlines()\n",
    "BIG2=open('autores_repec_rdf_v2.csv','w')\n",
    "BIG2.write(formato + '\\n')\n",
    "\n",
    "for linea in lineas:\n",
    "    BIG2.write(linea)\n",
    "    \n",
    "BIG.close()\n",
    "BIG2.close()"
   ]
  },
  {
   "cell_type": "code",
   "execution_count": null,
   "metadata": {},
   "outputs": [],
   "source": [
    "lineas_rdf('A/pak147.rdf')"
   ]
  },
  {
   "cell_type": "code",
   "execution_count": null,
   "metadata": {},
   "outputs": [],
   "source": [
    "'Üniversitesi'.encode('utf8')"
   ]
  },
  {
   "cell_type": "code",
   "execution_count": null,
   "metadata": {},
   "outputs": [],
   "source": [
    "import pandas as pd"
   ]
  },
  {
   "cell_type": "code",
   "execution_count": null,
   "metadata": {},
   "outputs": [],
   "source": [
    "df= pd.read_csv(r'C:\\Users\\lfsanche\\Dropbox\\Working_papers\\Academic_Network\\From Jean Paul\\rdfs\\autores_repec_rdf_v2.csv', delimiter = '|', error_bad_lines=False)"
   ]
  },
  {
   "cell_type": "code",
   "execution_count": null,
   "metadata": {},
   "outputs": [],
   "source": [
    "utills.clean_string('Üniversitesi')"
   ]
  },
  {
   "cell_type": "code",
   "execution_count": null,
   "metadata": {},
   "outputs": [],
   "source": [
    "df.tail()"
   ]
  },
  {
   "cell_type": "code",
   "execution_count": null,
   "metadata": {},
   "outputs": [],
   "source": []
  }
 ],
 "metadata": {
  "kernelspec": {
   "display_name": "Python 3",
   "language": "python",
   "name": "python3"
  },
  "language_info": {
   "codemirror_mode": {
    "name": "ipython",
    "version": 3
   },
   "file_extension": ".py",
   "mimetype": "text/x-python",
   "name": "python",
   "nbconvert_exporter": "python",
   "pygments_lexer": "ipython3",
   "version": "3.8.5"
  },
  "toc": {
   "base_numbering": 1,
   "nav_menu": {},
   "number_sections": true,
   "sideBar": true,
   "skip_h1_title": false,
   "title_cell": "Table of Contents",
   "title_sidebar": "Contents",
   "toc_cell": false,
   "toc_position": {},
   "toc_section_display": true,
   "toc_window_display": false
  }
 },
 "nbformat": 4,
 "nbformat_minor": 4
}
