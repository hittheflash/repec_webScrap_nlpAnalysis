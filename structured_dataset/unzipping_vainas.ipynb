{
 "cells": [
  {
   "cell_type": "code",
   "execution_count": 1,
   "metadata": {},
   "outputs": [],
   "source": [
    "import string\n",
    "abcd = string.ascii_lowercase"
   ]
  },
  {
   "cell_type": "code",
   "execution_count": 7,
   "metadata": {},
   "outputs": [],
   "source": [
    "import os\n",
    "import zipfile"
   ]
  },
  {
   "cell_type": "code",
   "execution_count": 5,
   "metadata": {},
   "outputs": [],
   "source": [
    "for letra in abcd:\n",
    "    os.mkdir(letra.upper())"
   ]
  },
  {
   "cell_type": "code",
   "execution_count": 11,
   "metadata": {},
   "outputs": [
    {
     "name": "stdout",
     "output_type": "stream",
     "text": [
      "26\n",
      "['A.zip', 'B.zip', 'C.zip', 'D.zip', 'E.zip', 'F.zip', 'G.zip', 'H.zip', 'I.zip', 'J.zip', 'K.zip', 'L.zip', 'M.zip', 'N.zip', 'O.zip', 'P.zip', 'Q.zip', 'R.zip', 'S.zip', 'T.zip', 'U.zip', 'V.zip', 'W.zip', 'X.zip', 'Y.zip', 'Z.zip']\n"
     ]
    }
   ],
   "source": [
    "zips = [i for i in os.listdir() if i.endswith(\"ip\")]\n",
    "print(len(zips))\n",
    "print(zips)"
   ]
  },
  {
   "cell_type": "code",
   "execution_count": 12,
   "metadata": {},
   "outputs": [],
   "source": [
    "for zzz in zips:\n",
    "    letra = zzz.split(\".\")[0]\n",
    "    with zipfile.ZipFile(zzz, 'r') as zip_ref:\n",
    "        zip_ref.extractall(letra)"
   ]
  },
  {
   "cell_type": "code",
   "execution_count": null,
   "metadata": {},
   "outputs": [],
   "source": []
  }
 ],
 "metadata": {
  "kernelspec": {
   "display_name": "Python 3",
   "language": "python",
   "name": "python3"
  },
  "language_info": {
   "codemirror_mode": {
    "name": "ipython",
    "version": 3
   },
   "file_extension": ".py",
   "mimetype": "text/x-python",
   "name": "python",
   "nbconvert_exporter": "python",
   "pygments_lexer": "ipython3",
   "version": "3.8.5"
  }
 },
 "nbformat": 4,
 "nbformat_minor": 2
}
