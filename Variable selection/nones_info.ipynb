{
 "cells": [
  {
   "cell_type": "code",
   "execution_count": 1,
   "metadata": {},
   "outputs": [],
   "source": [
    "import os\n",
    "from googlesearch import search\n",
    "import requests \n",
    "from requests import get\n",
    "from bs4 import BeautifulSoup"
   ]
  },
  {
   "cell_type": "code",
   "execution_count": 9,
   "metadata": {
    "scrolled": true
   },
   "outputs": [
    {
     "data": {
      "text/plain": [
       "['jfpoli.csv',\n",
       " 'agecon.csv',\n",
       " 'jageco.csv',\n",
       " 'ajagec.csv',\n",
       " 'erevae.csv',\n",
       " 'apecpp.csv',\n",
       " 'ajarec.csv',\n",
       " 'canjag.csv']"
      ]
     },
     "execution_count": 9,
     "metadata": {},
     "output_type": "execute_result"
    }
   ],
   "source": [
    "# CODIGO DE ENTRADA DE LOS JOURNALS\n",
    "urlss = [\"eee/jfpoli\",\"bla/agecon\",\"bla/jageco\",\"oup/ajagec\",\n",
    "        \"oup/erevae\",\"oup/apecpp\",\"bla/ajarec\",\"bla/canjag\"]\n",
    "\n",
    "csvs = [i.split(\"/\")[-1] + \".csv\" for i in urlss]\n",
    "csvs"
   ]
  },
  {
   "cell_type": "code",
   "execution_count": null,
   "metadata": {},
   "outputs": [],
   "source": [
    "for csv in csvs:\n",
    "    file1=open(csv, \"r\")\n",
    "    file3 = open(\"conRepec_{}\", \"a+\")\n",
    "    linea = file1.readline()\n",
    "    dic = {}\n",
    "    while len(linea)!=0:\n",
    "        datos = linea.strip().split(\"|\")\n",
    "        journal = datos[0]\n",
    "        name = datos[1]\n",
    "        busqueda = \"{} {} repec\".format(journal, name)\n",
    "        print(busqueda)\n",
    "        #cond1 = \"ideas.repec.org\" in j\n",
    "        #cond2 = len(j.split(\"/\"))==5\n",
    "        #cond3 = len(j.split(\"/\")[3])==1\n",
    "        #cond4 = j.split(\"/\")[-1].split(\".\")[0][:3].isalpha()\n",
    "        #cond5 = j.split(\"/\")[-1].split(\".\")[0][3:].isdigit()\n",
    "        #cond0 = len(j.split(\"/\")[-1].split(\".\")[0])>=4\n",
    "        links = [j for j in search(busqueda, \n",
    "                                   tld=\"com\",\n",
    "                                   num=10,\n",
    "                                   stop=5,\n",
    "                                   pause=2) if \"ideas.repec.org\" in j and len(j.split(\"/\"))==5 and len(j.split(\"/\")[3])==1 and len(j.split(\"/\")[-1].split(\".\")[0])>=4 and j.split(\"/\")[-1].split(\".\")[0][:3].isalpha() and j.split(\"/\")[-1].split(\".\")[0][3:].isdigit()]\n",
    "        print(links)\n",
    "        if len(links)>0:\n",
    "            dic[name]=[links]\n",
    "            for www in links:\n",
    "                response = get(www)\n",
    "                html_soup = BeautifulSoup(response.text, 'html.parser')\n",
    "                info = [link.text for link in html_soup.find_all(\"script\") if len(link.text)>20][0]\n",
    "                nombre = info.split('name\": \"')[1].split('\",')[0]\n",
    "                repec = info.split('tion\": \"')[-1].split('\"\\n')[0].split(\" \")[-1]\n",
    "                if \" \" in name:\n",
    "                    val = 0\n",
    "                    partes = name.split(\" \")\n",
    "                    for nmm in partes:\n",
    "                        if nmm in nombre:\n",
    "                            val+=1\n",
    "                    if val>=2:\n",
    "                        dic[name]+=[\";\".join(datos[:-1])+\";{}\".format(repec)]\n",
    "                        print(\";\".join(datos[:-1])+\";{}\".format(repec))\n",
    "                        file3.write(\";\".join(datos[:-1])+\";{}\".format(repec)+\"\\n\")\n",
    "                        print(\"-----------------------------------------\")\n",
    "                else:\n",
    "                    val=0\n",
    "                    if name in nombre:\n",
    "                        val+=1\n",
    "                    if val==1:\n",
    "                        dic[name]+=[\";\".join(datos[:-1])+\";{}\".format(repec)]\n",
    "                        print(\";\".join(datos[:-1])+\";{}\".format(repec))\n",
    "                        file3.write(\";\".join(datos[:-1])+\";{}\".format(repec)+\"\\n\")\n",
    "                        print(\"-----------------------------------------\")\n",
    "        print()\n",
    "        linea = file1.readline()"
   ]
  }
 ],
 "metadata": {
  "kernelspec": {
   "display_name": "Python 3",
   "language": "python",
   "name": "python3"
  },
  "language_info": {
   "codemirror_mode": {
    "name": "ipython",
    "version": 3
   },
   "file_extension": ".py",
   "mimetype": "text/x-python",
   "name": "python",
   "nbconvert_exporter": "python",
   "pygments_lexer": "ipython3",
   "version": "3.8.5"
  }
 },
 "nbformat": 4,
 "nbformat_minor": 2
}
