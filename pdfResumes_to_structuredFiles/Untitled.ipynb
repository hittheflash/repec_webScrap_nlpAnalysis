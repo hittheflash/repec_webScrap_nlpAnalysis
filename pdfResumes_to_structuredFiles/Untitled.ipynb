{
 "cells": [
  {
   "cell_type": "code",
   "execution_count": 3,
   "metadata": {},
   "outputs": [],
   "source": [
    "import utills as ut"
   ]
  },
  {
   "cell_type": "code",
   "execution_count": 6,
   "metadata": {},
   "outputs": [
    {
     "data": {
      "text/plain": [
       "227"
      ]
     },
     "execution_count": 6,
     "metadata": {},
     "output_type": "execute_result"
    }
   ],
   "source": [
    "cargos = ut.lista_cargos()\n",
    "len(cargos)"
   ]
  },
  {
   "cell_type": "code",
   "execution_count": 8,
   "metadata": {},
   "outputs": [
    {
     "data": {
      "text/plain": [
       "2003"
      ]
     },
     "execution_count": 8,
     "metadata": {},
     "output_type": "execute_result"
    }
   ],
   "source": [
    "institutos = ut.lista_inst()\n",
    "len(institutos)"
   ]
  },
  {
   "cell_type": "code",
   "execution_count": 9,
   "metadata": {},
   "outputs": [],
   "source": [
    "categories = {\n",
    "    \n",
    "    'education': {\n",
    "        \n",
    "        'education':['A.b.', 'a.b.', 'B.a.', 'b.a.', 'b.sc', 'B.sc', 'Bachelor', 'bachelor', 'M.Sc', 'M.a', 'M.a.', 'M.sc', 'm.a', 'm.a.', 'msc', 'm.sc', 'MSc', 'Msc', 'Ph. D.', 'Ph. d.', 'Ph.d', 'Ph.d.', 'ph. d.', 'ph.d', 'ph.d.', 'S.m.', 's.m.'],            \n",
    "    },\n",
    "    \n",
    "    \n",
    "    'honors and awards (Grants, Fellowships and Patents)': {\n",
    "        'grant':  [\"Advanced Grant\", \"Advanced grant\", \"Grant\", \"advanced grant\", \"grant\"],\n",
    "        'fellow': [\"Faculty Research Fellow\", \"Faculty research fellow\", \"Fellow\", \"Fellowship\", \"International Research Fellow\", \"International research fellow\", \"Research Fellow\", \"Research Fellowship\", \"Research fellow\", \"Research fellowship\", \"Visiting Fellow\", \"Visiting fellow\", \"faculty research fellow\", \"fellow\", \"fellowship\", \"international research fellow\", \"research fellow\", \"research fellowship\", \"visiting fellow\"],\n",
    "        'council':[\"Council Member\", \"Council Member Diplom\", \"Council member\", \"Council member diplom\", \"council member\", \"council member diplom\"],\n",
    "        'member': [\"Board Member\", \"Board member\", \"Elected Member\", \"Elected member\", \"Member\", \"Panel Member\", \"Panel member\", \"board member\", \"elected member\", \"member\", \"panel member\"],\n",
    "        'award':  [\"Award\", \"award\"],\n",
    "        'prize':  ['prize', 'Prize']\n",
    "    },            \n",
    "    \n",
    "    \n",
    "    'experience': {\n",
    "        'research': ['Research Assistant', 'Research Associate', 'Research Chair', 'Research Professor', 'Research Visitor', 'Research assistant', 'Research associate', 'Research chair', 'Research professor', 'Research visitor', 'research assistant', 'research associate', 'research chair', 'research professor', 'research visitor'],\n",
    "    },        \n",
    "    \n",
    "    \n",
    "    'employment': {\n",
    "        'professor':            [\"Associate Professor\", \"Visiting Assistant Professor\", \"Visiting Associate Professor\", \"Visiting Professor\", \"Visiting assistant professor\", \"Visiting associate professor\", \"Visiting professor\", \"associate professor\", \"visiting assistant professor\", \"visiting professor\", \"Adjunct Professor\", \"Adjunct Research Professor\", \"Adjunct professor\", \"Adjunct research professor\", \"Affiliated Professor\", \"Affiliated professor\", \"Assistant Professor\", \"Assistant Professor In Economics\", \"Assistant professor\", \"Assistant professor in economics\", \"Associate professor\", \"Booth Professor\", \"Booth professor\", \"Full Professor\", \"Full professor\", \"Professor\", \"Professor Of Economics\", \"Professor of economics\", \"University Professor\", \"University professor\", \"adjunct professor\", \"adjunct research professor\", \"affiliated professor\", \"assistant professor\", \"assistant professor in economics\", \"booth professor\", \"full professor\", \"professor\", \"professor of economics\", \"university professor\"],\n",
    "        'director/co-director': [\"Directeur\", \"directeur\", \"Associate Director\", \"Associate director\", \"associate director\", \"Co-Director\", \"Co-director\", \"Director\", \"co-director\", \"director\"],\n",
    "        'lecturer':             [\"Lecturer\", \"Senior Lecturer\", \"Senior lecturer\", \"lecturer\", \"senior lecturer\"],\n",
    "        'chair/chairman':       [\"Chair\", \"Chairman\", \"chair\", \"chairman\"],\n",
    "        'visiting':             [\"Visiting Postdoctoral Researcher\", \"Visiting Research Faculty\", \"Visiting Research Student\", \"Visiting Scholar\", \"Visiting Student\", \"Visiting postdoctoral researcher\", \"Visiting research faculty\", \"Visiting research student\", \"Visiting scholar\", \"Visiting student\", \"visiting postdoctoral researcher\", \"visiting research faculty\", \"visiting research student\", \"visiting scholar\", \"visiting student\"],\n",
    "        'associate':            [\"Associate Editor\", \"Associate Faculty\", \"Associate Head\", \"Associate editor\", \"Associate faculty\", \"Associate head\", \"associate editor\", \"associate faculty\", \"associate head\"],\n",
    "        'teaching':             [\"Teaching Assistant\", \"Teaching assistant\", \"teaching assistant\"],\n",
    "        'examiner':             ['External examiner', 'external examiner']\n",
    "    },\n",
    "\n",
    "    \n",
    "    'editorial service': {\n",
    "        'editor':[\"Assistant Editor\", \"Assistant editor\", \"Book Review Editor\", \"Book review editor\", \"Co-editor\", \"Editor-in-chief\", \"Editorial Board\", \"Editorial board\", \"Former Associate Editor\", \"Former associate editor\", \"Guest Editor\", \"Guest editor\", \"Invited Editor\", \"Invited editor\", \"assistant editor\", \"book review editor\", \"co-editor\", \"editor-in-chief\", \"editorial board\", \"former associate editor\", \"guest editor\", \"invited editor\"],\n",
    "    },\n",
    "    \n",
    "    \n",
    "    'other experince': {\n",
    "        'other':['Academic Visits', 'Academic visits', 'Computer Science Magnet', 'Computer science magnet', 'External Examiner', 'Gastprofessor', 'Instructor', 'Laurea', 'Mphil', 'Postdoctoral Researcher', 'Postdoctoral researcher', 'Project Advisor', 'Project advisor', 'Scholarship', 'Visitor', 'academic visits', 'computer science magnet', 'gastprofessor', 'instructor', 'laurea', 'mphil', 'postdoctoral researcher', 'project advisor', 'scholarship', 'visitor']\n",
    "    }\n",
    "}"
   ]
  },
  {
   "cell_type": "code",
   "execution_count": 15,
   "metadata": {},
   "outputs": [
    {
     "name": "stdout",
     "output_type": "stream",
     "text": [
      "education education 27\n",
      "honors and awards (Grants, Fellowships and Patents) grant 5\n",
      "honors and awards (Grants, Fellowships and Patents) fellow 19\n",
      "honors and awards (Grants, Fellowships and Patents) council 6\n",
      "honors and awards (Grants, Fellowships and Patents) member 11\n",
      "honors and awards (Grants, Fellowships and Patents) award 2\n",
      "honors and awards (Grants, Fellowships and Patents) prize 2\n",
      "experience research 15\n",
      "employment professor 40\n",
      "employment director/co-director 10\n",
      "employment lecturer 5\n",
      "employment chair/chairman 4\n",
      "employment visiting 15\n",
      "employment associate 9\n",
      "employment teaching 3\n",
      "employment examiner 2\n",
      "editorial service editor 22\n",
      "other experince other 25\n"
     ]
    }
   ],
   "source": [
    "count = 0\n",
    "for categoria in categories:\n",
    "    cat = categories[categoria]\n",
    "    # print(cat)\n",
    "    for catte in cat:\n",
    "        lista = cat[catte]\n",
    "        print(categoria, catte, len(lista))\n",
    "        count+=len(lista)"
   ]
  },
  {
   "cell_type": "code",
   "execution_count": 16,
   "metadata": {},
   "outputs": [
    {
     "data": {
      "text/plain": [
       "222"
      ]
     },
     "execution_count": 16,
     "metadata": {},
     "output_type": "execute_result"
    }
   ],
   "source": [
    "count"
   ]
  },
  {
   "cell_type": "code",
   "execution_count": null,
   "metadata": {},
   "outputs": [],
   "source": []
  }
 ],
 "metadata": {
  "kernelspec": {
   "display_name": "Python 3",
   "language": "python",
   "name": "python3"
  },
  "language_info": {
   "codemirror_mode": {
    "name": "ipython",
    "version": 3
   },
   "file_extension": ".py",
   "mimetype": "text/x-python",
   "name": "python",
   "nbconvert_exporter": "python",
   "pygments_lexer": "ipython3",
   "version": "3.8.5"
  }
 },
 "nbformat": 4,
 "nbformat_minor": 4
}
