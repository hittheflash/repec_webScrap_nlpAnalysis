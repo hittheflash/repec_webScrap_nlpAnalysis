{
 "cells": [
  {
   "cell_type": "code",
   "execution_count": 1,
   "metadata": {},
   "outputs": [],
   "source": [
    "import sys\n",
    "import os\n",
    "import pandas as pd\n",
    "import shutil\n",
    "import PyPDF2\n",
    "\n",
    "import warnings\n",
    "warnings.filterwarnings(\"ignore\")\n",
    "\n",
    "from pdfminer.pdfinterp import PDFResourceManager, process_pdf\n",
    "from pdfminer.converter import TextConverter\n",
    "from pdfminer.layout import LAParams\n",
    "from io import StringIO\n",
    "from PyPDF2 import PdfFileReader"
   ]
  },
  {
   "cell_type": "code",
   "execution_count": 1,
   "metadata": {},
   "outputs": [],
   "source": [
    "def pages_number(pdf_path):\n",
    "    with open(pdf_path, 'rb') as f:\n",
    "        fx = PdfFileReader(f)\n",
    "        information = fx.getDocumentInfo()\n",
    "        number_of_pages = fx.getNumPages()\n",
    "\n",
    "    return number_of_pages"
   ]
  },
  {
   "cell_type": "code",
   "execution_count": 3,
   "metadata": {},
   "outputs": [],
   "source": [
    "def convert_pdf(path):\n",
    "\n",
    "    rsrcmgr = PDFResourceManager()\n",
    "    retstr = StringIO()\n",
    "    codec = 'utf-8'\n",
    "    laparams = LAParams()\n",
    "    device = TextConverter(rsrcmgr, retstr, laparams=laparams)\n",
    "\n",
    "    fp = open(path, 'rb')\n",
    "    process_pdf(rsrcmgr, device, fp)\n",
    "    fp.close()\n",
    "    device.close()\n",
    "\n",
    "    strr = retstr.getvalue()\n",
    "    retstr.close()\n",
    "    return strr"
   ]
  },
  {
   "cell_type": "code",
   "execution_count": 11,
   "metadata": {},
   "outputs": [],
   "source": [
    "names = os.listdir(\"./aer\")\n",
    "names.remove(\"Melvin  Stephens, Jr.\")\n",
    "names.remove(\"John  Duffy\")"
   ]
  },
  {
   "cell_type": "code",
   "execution_count": 12,
   "metadata": {},
   "outputs": [
    {
     "data": {
      "text/plain": [
       "48"
      ]
     },
     "execution_count": 12,
     "metadata": {},
     "output_type": "execute_result"
    }
   ],
   "source": [
    "names.index(\"Edmund Stuart Cannon\")"
   ]
  },
  {
   "cell_type": "code",
   "execution_count": 13,
   "metadata": {},
   "outputs": [
    {
     "data": {
      "text/plain": [
       "63"
      ]
     },
     "execution_count": 13,
     "metadata": {},
     "output_type": "execute_result"
    }
   ],
   "source": [
    "names.index(\"Francesco  Caselli\")"
   ]
  },
  {
   "cell_type": "code",
   "execution_count": 15,
   "metadata": {},
   "outputs": [
    {
     "name": "stdout",
     "output_type": "stream",
     "text": [
      "['Yusufcan  Masatlioglu']\n"
     ]
    }
   ],
   "source": [
    "names = names[-1:]\n",
    "print(names)"
   ]
  },
  {
   "cell_type": "code",
   "execution_count": 12,
   "metadata": {},
   "outputs": [
    {
     "data": {
      "text/plain": [
       "'./aer/Edmund Stuart Cannon/ED080639.pdf'"
      ]
     },
     "execution_count": 12,
     "metadata": {},
     "output_type": "execute_result"
    }
   ],
   "source": [
    "\"./aer/Edmund Stuart Cannon/ED080639.pdf\""
   ]
  },
  {
   "cell_type": "code",
   "execution_count": 26,
   "metadata": {},
   "outputs": [
    {
     "data": {
      "text/plain": [
       "349"
      ]
     },
     "execution_count": 26,
     "metadata": {},
     "output_type": "execute_result"
    }
   ],
   "source": [
    "len(\"\"\"DANIEL A. HOJMAN\n",
    "CONTACT INFORMATION\n",
    "Address (Chile): Facultad de Economía y Negocios\n",
    " Universidad de Chile\n",
    " Diagonal Paraguay 257, Oficina 1603\n",
    " Santiago, Chile\n",
    "\n",
    "Address (United States): Kennedy School of Government\n",
    " Harvard University\n",
    " 79 JFK Street\n",
    " Cambridge, MA 02138, USA\n",
    "E-mail: dhojman@fen.uchile.cl\n",
    "URL: http://ksghome.harvard.edu/~dhojman/\"\"\")"
   ]
  },
  {
   "cell_type": "code",
   "execution_count": 16,
   "metadata": {
    "scrolled": true
   },
   "outputs": [
    {
     "name": "stdout",
     "output_type": "stream",
     "text": [
      "Yusufcan Masatlioglu\n"
     ]
    },
    {
     "name": "stderr",
     "output_type": "stream",
     "text": [
      "WARNING:root:Cannot locate objid=25\n"
     ]
    },
    {
     "name": "stdout",
     "output_type": "stream",
     "text": [
      "b'6/30/2017 \\n\\nCHRISTOPHER L. HOUSE \\n\\nDepartment of Economics, 238 Lorch Hall, University of Michigan, Ann Arbor MI 48109 \\nTel: (734) 764-2364  Fa\n",
      "\n",
      "b'Elchin Suleymanov\\n\\nAugust, 2019\\n\\nesuleyma@purdue.edu\\nhttps://sites.google.com/view/elchin-suleymanov\\n\\nEmail:\\nWebsite:\\nAddress: Department o\n",
      "\n",
      "b'YUSUFCAN MASATLIOGLU \\n\\n3114 Tydings Hall, 7343 Preinkert Dr.                                                                                      \n",
      "\n",
      "False True False False True False False False True False\n",
      "Masatlioglu.txt\n",
      "---------------------------------------------------------------\n"
     ]
    }
   ],
   "source": [
    "for nms in names:\n",
    "    nms2 = nms.split(\" \")\n",
    "    nms2 = [i for i in nms2 if i!=\"\"]\n",
    "    nms4 = ''\n",
    "    nms5 = ''\n",
    "\n",
    "    nms2 = \" \".join(nms2)\n",
    "    print(nms2)\n",
    "    nms3 = nms2.replace(\".\", \"\")\n",
    "    \n",
    "    nms6 = nms2.split(\" \")\n",
    "    ln = nms6[-1]\n",
    "    \n",
    "    if len(nms6)==3:\n",
    "        nms4 = \"{} {}\".format(nms6[1][0], nms6[2])\n",
    "        nms5 = \"{}. {}\".format(nms6[1][0], nms6[2])\n",
    "    \n",
    "    dir1 = \"./aer/{}/\".format(nms)\n",
    "    dir2 = \"./aer_data/{}/\".format(nms)\n",
    "    pdfs = os.listdir(dir1)\n",
    "    for pdf in pdfs:\n",
    "        \n",
    "        name_txt = pdf.split(\".\")[0] + \".txt\"\n",
    "        dir3 = \"{}{}\".format(dir1, pdf)\n",
    "        #print(dir3)\n",
    "        \n",
    "        try:\n",
    "\n",
    "            pagss = extract_information(dir3)\n",
    "            if pagss<20:\n",
    "                try:\n",
    "\n",
    "                    cad = str(convert_pdf(\"{}{}\".format(dir1, pdf)).encode('utf8'))\n",
    "                    cad2 = cad[:150]\n",
    "                    cad0 = cad[:500]\n",
    "\n",
    "                    print(cad2)\n",
    "                    print()\n",
    "\n",
    "                    cond1 = nms2 in cad2\n",
    "                    cond2 = nms2.upper() in cad2\n",
    "                    cond3 = nms2.lower() in cad2\n",
    "                    cond4 = nms3 in cad2\n",
    "                    cond5 = nms3.upper() in cad2\n",
    "                    cond6 = nms3.lower() in cad2\n",
    "                    cond7 = \". {}\".format(ln) in cad2\n",
    "                    cond8 = nms4 in cad2\n",
    "                    cond9 = nms4.upper() in cad2\n",
    "                    cond10 = nms4.lower() in cad2\n",
    "                    cond11 = nms5 in cad2\n",
    "                    cond12 = nms5.upper() in cad2\n",
    "                    cond13 = nms5.lower() in cad2\n",
    "                    cond14 = ln in cad2\n",
    "                    cond15 = ln.upper() in cad2\n",
    "                    cond16 = ln.lower() in cad2\n",
    "\n",
    "                    if len(nms4)>1:\n",
    "\n",
    "                        if cond1 or cond2 or cond3 or cond4 or cond5 or cond6 or cond7 or cond8 or cond9 or cond10 or cond11 or cond12 or cond13 or cond14 or cond15 or cond16:\n",
    "                            print(cond1 , cond2 , cond3 , cond4 , cond5 , cond6 , cond7 , cond8 , cond9 , cond10 , cond11 , cond12 , cond13, cond14, cond15, cond16)\n",
    "                            if \"@\" in cad0:\n",
    "                                name_txt = name_txt.replace(' ', \"_\")\n",
    "                                fname = \"{}{}\".format(dir2, name_txt)\n",
    "                                file = open(\"{}{}\".format(dir2, name_txt), \"w\")\n",
    "                                file.write(cad)\n",
    "                                file.close\n",
    "                                print(name_txt)\n",
    "                                print(\"---------------------------------------------------------------\")\n",
    "                    else:\n",
    "\n",
    "                        if cond1 or cond2 or cond3 or cond4 or cond5 or cond6 or cond7 or cond14 or cond15 or cond16:\n",
    "                            print(cond1 , cond2 , cond3 , cond4 , cond5 , cond6 , cond7, cond14, cond15, cond16)\n",
    "                            if \"@\" in cad0:\n",
    "                                name_txt = name_txt.replace(' ', \"_\")\n",
    "                                fname = \"{}{}\".format(dir2, name_txt)\n",
    "                                file = open(\"{}{}\".format(dir2, name_txt), \"w\")\n",
    "                                file.write(cad)\n",
    "                                file.close\n",
    "                                print(name_txt)\n",
    "                                print(\"---------------------------------------------------------------\")\n",
    "\n",
    "\n",
    "                except (NameError):\n",
    "                    print(\"Se han caido tus esperanzas 1\")\n",
    "                except:\n",
    "                    print(\"Unexpected error 1:\", sys.exc_info()[0])\n",
    "        except (PyPDF2.utils.PdfReadError, TypeError):\n",
    "            print(\"Se han caido tus esperanzas 2\")\n",
    "        except:\n",
    "            print(\"Unexpected error 1:\", sys.exc_info()[0])"
   ]
  },
  {
   "cell_type": "code",
   "execution_count": 1,
   "metadata": {},
   "outputs": [
    {
     "data": {
      "text/plain": [
       "'cond1 , cond2 , cond3 , cond4 , cond5 , cond6 , cond7 , cond8 , cond9 , cond10 , cond11 , cond12 , cond13'"
      ]
     },
     "execution_count": 1,
     "metadata": {},
     "output_type": "execute_result"
    }
   ],
   "source": [
    "\"cond1 or cond2 or cond3 or cond4 or cond5 or cond6 or cond7 or cond8 or cond9 or cond10 or cond11 or cond12 or cond13\".replace(\"or\", \",\")"
   ]
  },
  {
   "cell_type": "code",
   "execution_count": 1,
   "metadata": {},
   "outputs": [
    {
     "data": {
      "text/plain": [
       "77"
      ]
     },
     "execution_count": 1,
     "metadata": {},
     "output_type": "execute_result"
    }
   ],
   "source": [
    "len(\"b'Markets, Games, and Strategic Behavior: \\n\\nRecipes for Interactive Learning \")"
   ]
  },
  {
   "cell_type": "code",
   "execution_count": 5,
   "metadata": {
    "scrolled": true
   },
   "outputs": [
    {
     "name": "stderr",
     "output_type": "stream",
     "text": [
      "WARNING:root:Cannot locate objid=134\n",
      "WARNING:root:Invalid zlib bytes: error('Error -3 while decompressing data: incorrect header check'), b'\\xdb1p\\x10\\xae\\xe6\\xca\\xf0^)\\xa3\\xf1\\x05k_\\x12X\\x0f\\x14[\\x8fl\\xce\\xe1\\x80\\xdd\\xba\\xae\\x0fV\\xc9\\x8b\\xb8\\xb0\\x94\\xc9\\xad\\xb8w\\xc6#\\xfe/\\x13*\\xd4\\xd0\\xf6\\xf6\\xf9\\x9a\\x1d\\xf5\\x14\\xef\\xd9e2v\\xc7tudh\\xfb\\xf4\\x0e\\xf5\\x05\\xea\\x1eg\\xfd\\xd7m\\xb9\\xe32P\\xbf8\\x91\\x16\\x06\\xe5\\xc4D\\xca:\\xfe\\n\\xb2P\\x18\\x88\\xc5I\\xb9\\xf3l\\xad\\xf1l&\\x84\\xa5\\x10`\\xe1.\\xe3\\x9d|7\\xd4\\xed\\xffZ\\x8dV\\xb7]\\x88X+\\x82\\xb4k\\xf4\\x1a*\\x02\\x08\\x95\\xdbq\\x93\\x1c\\x07\\xa9\\x96$\\x19\\xe6\\x87\\xc0\\xc0t\\x1d\\x12m\\x13\\xec\\tZ\\xd4\\xc8\\xc7\\x84v\\xf7\\x7f~Bo\\x05\\x19\\xf0!\\xdc\\xcd\\xc6)M\\xccH\\xa9R\\xb3&\\x06<a:`cS\\xc8\\xe1\\x84\\x9c5\\xe1R\\x0c\\xfd,\\x166/\\xc4\\xb0\\xd83\\x98\\x95\\xfbw_PV E\\x08\\xeb\\x87\\xd23\\x11\\x1bSH\\x84\\xf1?\\x80\\xc4\\x94\\xd5\\xec\\xc2#]ig\\xf1v+A\\xd0\\x9fz\\x17\\xc2\\xa8\\xbb\\xb3C3l\\xdf}\\xa1_n\\x85\\x9c\\xbc\\xbeQ\\x16\\x90\\xa6z\"W\\xfb\\xf5%\\x1d\\xb5\\x190\\t\\xe3Xs+)\\x14\\x85;B\\xd4F\\xb0v\\x10\\t\\x06\\xf4.\\xb8&7\\xdcB=\\x8ez0~\\xb6\\xb6\\x8a]\\xf3\\x1f\\xc7d\\x83\\\\\\x0e\\r\\x04\\x06\\xf3Z2\\xfd\\x98\\xdc\\xd0\\x9c\\x0e|1\\x92\\xdb\\tkk\\xd0\\x89\\xb1\\xf0\\xbb\\x06z\\x88\\xcd\\xc8R/3\\xd8,k\\x0f\\x98\\xc0\\xb2x+\\xb6\\x8c\\xff\\x90\\x1f>>i\\x94\\x8e\\xc7~\\x99\\xc2\\xb4V\\xc9\\x11;>-\\xb1\\xf0S9d\\\\*\\n\\x92\\x9a-\\xf1\\xc1]]\\x8bRC\\xb0\\xca\\xac\\x97P\\x8a<r\\x00\\xdf;\\x10\\xc3\\xee\\xeb\\xe73\\xdcI\\x1d\\xa9\\xb4\\x82\\x8b\\xec\\x00\\xac;\\\\\\xbb\\x99\\x8d\\x7f\\xe4\\x8a\\xd1M\\xad-%{\\xae\\x91\\xc9\\xb5*\\x10\\xa5\\xcc\\xe5\\x05X\\x19iw\\xe3\\x0b\\xa0\\xc6(A\\xe5I1\\xb5J\\x9e\\x1fV\\xb3\\xcd\\xda\\x9d\\xc5\\xef\\xca8\\xd6)\\xa4R\\xaa\\xda\\xc0\\x07\\x96\\xa8\\x10D\\x95\\xc5\\xb8\\xc4\\x8d\\xff\\x85\\x0e{H^\\xf5P \\xa8\\xb4\\xbd!5\\x8d\\xf8\\xb7\\x07\\xf6\\xbbyCH\\xcbbNE\\xd2\\xe9N\\x05\\xa3\\xcbhD\\xca\\xbb\\xb5\\x8dz\\xd5Sl\\xde\\x04t\\x16\\x1f\\xcf\\xd7\\x1d\\x93\\xa3\\xca\\x1aG\\xdb\\xe9<\\x80\\x82\\xea\\xac\\xc3\\xd9\\x0b\\x03q\\xa1\\x95Py\\xf8\\xba\\xa8\\xf4t\\xbf_\\xcfp\\x82&\\xfdc$\\xa54\\xc3aUP>hY\\xcb\\x99P\\x1a1\\xd2{\\xe2$7\\x02E\\x9e4\\xb6\\xd7\\xe5jN\\xfa`()\\x80\\x16\\xc1A\\x01\\xa4\\xca\\x9dm5_\\xaaX\\x7f\\xe5C\\xab\\x05\\xb2EV\\xd3\\xd7z\\r\\xacdx\\x85\\xbdp\\xac\\xca\\x1d\\xef\\xbdI\"\\x94q\\xb1\\x96u\\xddQ\\x08\\x85\\x94\\x9b\\xa7\\xa4\\x0c\\xe7M\\xedp\\xcfz\\xb6\\xd0\\x8c\\x0c\\xf2\\x17\\xb7m\\x86X\\xa4\\x94\\xd3\\x9e\\n\\xacJ\\xaaRq;\\x16:\\x10\\xafs>\\xb7\\x11\\xeb\\xfbfx\\xf3 \\x86\\xbbl8\\xdc\\xc1w7\\x15\\xe4\\x15\\x83Z7\\xfd\\xcad\\xe5\\xb6\\x86\\x867E\\x8a\\x19\\x81Z\\xd4\\xaa\\xfd\\xba\\x08\\x04`\\x16p\\x97\\xe0\\xe9\"7\\xa87\\xc4\\xd72\\x85\\x98\\xb1_\\xc7M\\x03?\\xdc\\x14#\\x98\\xca\\x93\\x97N0\\x1fm\\xc1\\xe4\\xa4L#\\x81F|\\x9a\\x96\\xeeE?s\\x99\\\\ \\x1a\\xae\\x95P'\n",
      "WARNING:root:Cannot locate objid=134\n",
      "WARNING:root:Wrong type: None required: <class 'dict'>\n"
     ]
    },
    {
     "ename": "PDFEncryptionError",
     "evalue": "Unknown algorithm: param={'CF': {'StdCF': {'AuthEvent': /DocOpen, 'CFM': /V2, 'Length': 16}}, 'Filter': /Standard, 'Length': 128, 'O': b'Gk\\xf7\\xb3\\xa9\\xe1\\x02\\xa2*:\\x8f\\x0eLE\\x17\\x19)\\xbc\\x13\\xc4\\xff;*\\x94\\xfaFR \\xf8\\xc5H\\xd1', 'P': -1036, 'R': 4, 'StmF': /StdCF, 'StrF': /StdCF, 'U': b'NwZ-\\xa1u\\xb3A\\x13\\xa6h\\xe5r-\\xbf\\x8d\\x00\\x00\\x00\\x00\\x00\\x00\\x00\\x00\\x00\\x00\\x00\\x00\\x00\\x00\\x00\\x00', 'V': 4}",
     "output_type": "error",
     "traceback": [
      "\u001b[1;31m---------------------------------------------------------------------------\u001b[0m",
      "\u001b[1;31mPDFEncryptionError\u001b[0m                        Traceback (most recent call last)",
      "\u001b[1;32m<ipython-input-5-e4f959eb2c09>\u001b[0m in \u001b[0;36m<module>\u001b[1;34m\u001b[0m\n\u001b[1;32m----> 1\u001b[1;33m \u001b[0mconvert_pdf\u001b[0m\u001b[1;33m(\u001b[0m\u001b[1;34m\"./aer/Anil K Kashyap/anil-kashyap-cv-2019.pdf\"\u001b[0m\u001b[1;33m)\u001b[0m\u001b[1;33m\u001b[0m\u001b[1;33m\u001b[0m\u001b[0m\n\u001b[0m",
      "\u001b[1;32m<ipython-input-4-a7f12119d343>\u001b[0m in \u001b[0;36mconvert_pdf\u001b[1;34m(path)\u001b[0m\n\u001b[0;32m      8\u001b[0m \u001b[1;33m\u001b[0m\u001b[0m\n\u001b[0;32m      9\u001b[0m     \u001b[0mfp\u001b[0m \u001b[1;33m=\u001b[0m \u001b[0mopen\u001b[0m\u001b[1;33m(\u001b[0m\u001b[0mpath\u001b[0m\u001b[1;33m,\u001b[0m \u001b[1;34m'rb'\u001b[0m\u001b[1;33m)\u001b[0m\u001b[1;33m\u001b[0m\u001b[1;33m\u001b[0m\u001b[0m\n\u001b[1;32m---> 10\u001b[1;33m     \u001b[0mprocess_pdf\u001b[0m\u001b[1;33m(\u001b[0m\u001b[0mrsrcmgr\u001b[0m\u001b[1;33m,\u001b[0m \u001b[0mdevice\u001b[0m\u001b[1;33m,\u001b[0m \u001b[0mfp\u001b[0m\u001b[1;33m)\u001b[0m\u001b[1;33m\u001b[0m\u001b[1;33m\u001b[0m\u001b[0m\n\u001b[0m\u001b[0;32m     11\u001b[0m     \u001b[0mfp\u001b[0m\u001b[1;33m.\u001b[0m\u001b[0mclose\u001b[0m\u001b[1;33m(\u001b[0m\u001b[1;33m)\u001b[0m\u001b[1;33m\u001b[0m\u001b[1;33m\u001b[0m\u001b[0m\n\u001b[0;32m     12\u001b[0m     \u001b[0mdevice\u001b[0m\u001b[1;33m.\u001b[0m\u001b[0mclose\u001b[0m\u001b[1;33m(\u001b[0m\u001b[1;33m)\u001b[0m\u001b[1;33m\u001b[0m\u001b[1;33m\u001b[0m\u001b[0m\n",
      "\u001b[1;32m~\\Anaconda3\\lib\\site-packages\\pdfminer\\pdfinterp.py\u001b[0m in \u001b[0;36mprocess_pdf\u001b[1;34m(rsrcmgr, device, fp, pagenos, maxpages, password, caching, check_extractable)\u001b[0m\n\u001b[0;32m    696\u001b[0m     \u001b[1;31m# Supply the document password for initialization.\u001b[0m\u001b[1;33m\u001b[0m\u001b[1;33m\u001b[0m\u001b[1;33m\u001b[0m\u001b[0m\n\u001b[0;32m    697\u001b[0m     \u001b[1;31m# (If no password is set, give an empty string.)\u001b[0m\u001b[1;33m\u001b[0m\u001b[1;33m\u001b[0m\u001b[1;33m\u001b[0m\u001b[0m\n\u001b[1;32m--> 698\u001b[1;33m     \u001b[0mdoc\u001b[0m\u001b[1;33m.\u001b[0m\u001b[0minitialize\u001b[0m\u001b[1;33m(\u001b[0m\u001b[0mpassword\u001b[0m\u001b[1;33m)\u001b[0m\u001b[1;33m\u001b[0m\u001b[1;33m\u001b[0m\u001b[0m\n\u001b[0m\u001b[0;32m    699\u001b[0m     \u001b[1;31m# Check if the document allows text extraction. If not, abort.\u001b[0m\u001b[1;33m\u001b[0m\u001b[1;33m\u001b[0m\u001b[1;33m\u001b[0m\u001b[0m\n\u001b[0;32m    700\u001b[0m     \u001b[1;32mif\u001b[0m \u001b[0mcheck_extractable\u001b[0m \u001b[1;32mand\u001b[0m \u001b[1;32mnot\u001b[0m \u001b[0mdoc\u001b[0m\u001b[1;33m.\u001b[0m\u001b[0mis_extractable\u001b[0m\u001b[1;33m:\u001b[0m\u001b[1;33m\u001b[0m\u001b[1;33m\u001b[0m\u001b[0m\n",
      "\u001b[1;32m~\\Anaconda3\\lib\\site-packages\\pdfminer\\pdfparser.py\u001b[0m in \u001b[0;36minitialize\u001b[1;34m(self, password)\u001b[0m\n\u001b[0;32m    456\u001b[0m         \u001b[0mV\u001b[0m \u001b[1;33m=\u001b[0m \u001b[0mint_value\u001b[0m\u001b[1;33m(\u001b[0m\u001b[0mparam\u001b[0m\u001b[1;33m.\u001b[0m\u001b[0mget\u001b[0m\u001b[1;33m(\u001b[0m\u001b[1;34m'V'\u001b[0m\u001b[1;33m,\u001b[0m \u001b[1;36m0\u001b[0m\u001b[1;33m)\u001b[0m\u001b[1;33m)\u001b[0m\u001b[1;33m\u001b[0m\u001b[1;33m\u001b[0m\u001b[0m\n\u001b[0;32m    457\u001b[0m         \u001b[1;32mif\u001b[0m \u001b[1;32mnot\u001b[0m \u001b[1;33m(\u001b[0m\u001b[0mV\u001b[0m \u001b[1;33m==\u001b[0m \u001b[1;36m1\u001b[0m \u001b[1;32mor\u001b[0m \u001b[0mV\u001b[0m \u001b[1;33m==\u001b[0m \u001b[1;36m2\u001b[0m\u001b[1;33m)\u001b[0m\u001b[1;33m:\u001b[0m\u001b[1;33m\u001b[0m\u001b[1;33m\u001b[0m\u001b[0m\n\u001b[1;32m--> 458\u001b[1;33m             \u001b[1;32mraise\u001b[0m \u001b[0mPDFEncryptionError\u001b[0m\u001b[1;33m(\u001b[0m\u001b[1;34m'Unknown algorithm: param=%r'\u001b[0m \u001b[1;33m%\u001b[0m \u001b[0mparam\u001b[0m\u001b[1;33m)\u001b[0m\u001b[1;33m\u001b[0m\u001b[1;33m\u001b[0m\u001b[0m\n\u001b[0m\u001b[0;32m    459\u001b[0m         \u001b[0mlength\u001b[0m \u001b[1;33m=\u001b[0m \u001b[0mint_value\u001b[0m\u001b[1;33m(\u001b[0m\u001b[0mparam\u001b[0m\u001b[1;33m.\u001b[0m\u001b[0mget\u001b[0m\u001b[1;33m(\u001b[0m\u001b[1;34m'Length'\u001b[0m\u001b[1;33m,\u001b[0m \u001b[1;36m40\u001b[0m\u001b[1;33m)\u001b[0m\u001b[1;33m)\u001b[0m \u001b[1;31m# Key length (bits)\u001b[0m\u001b[1;33m\u001b[0m\u001b[1;33m\u001b[0m\u001b[0m\n\u001b[0;32m    460\u001b[0m         \u001b[0mO\u001b[0m \u001b[1;33m=\u001b[0m \u001b[0mstr_value\u001b[0m\u001b[1;33m(\u001b[0m\u001b[0mparam\u001b[0m\u001b[1;33m[\u001b[0m\u001b[1;34m'O'\u001b[0m\u001b[1;33m]\u001b[0m\u001b[1;33m)\u001b[0m\u001b[1;33m\u001b[0m\u001b[1;33m\u001b[0m\u001b[0m\n",
      "\u001b[1;31mPDFEncryptionError\u001b[0m: Unknown algorithm: param={'CF': {'StdCF': {'AuthEvent': /DocOpen, 'CFM': /V2, 'Length': 16}}, 'Filter': /Standard, 'Length': 128, 'O': b'Gk\\xf7\\xb3\\xa9\\xe1\\x02\\xa2*:\\x8f\\x0eLE\\x17\\x19)\\xbc\\x13\\xc4\\xff;*\\x94\\xfaFR \\xf8\\xc5H\\xd1', 'P': -1036, 'R': 4, 'StmF': /StdCF, 'StrF': /StdCF, 'U': b'NwZ-\\xa1u\\xb3A\\x13\\xa6h\\xe5r-\\xbf\\x8d\\x00\\x00\\x00\\x00\\x00\\x00\\x00\\x00\\x00\\x00\\x00\\x00\\x00\\x00\\x00\\x00', 'V': 4}"
     ]
    }
   ],
   "source": [
    "convert_pdf(\"./aer/Anil K Kashyap/anil-kashyap-cv-2019.pdf\")"
   ]
  },
  {
   "cell_type": "code",
   "execution_count": 4,
   "metadata": {},
   "outputs": [],
   "source": [
    "import pandas as pd"
   ]
  },
  {
   "cell_type": "code",
   "execution_count": 5,
   "metadata": {},
   "outputs": [
    {
     "data": {
      "text/html": [
       "<div>\n",
       "<style scoped>\n",
       "    .dataframe tbody tr th:only-of-type {\n",
       "        vertical-align: middle;\n",
       "    }\n",
       "\n",
       "    .dataframe tbody tr th {\n",
       "        vertical-align: top;\n",
       "    }\n",
       "\n",
       "    .dataframe thead th {\n",
       "        text-align: right;\n",
       "    }\n",
       "</style>\n",
       "<table border=\"1\" class=\"dataframe\">\n",
       "  <thead>\n",
       "    <tr style=\"text-align: right;\">\n",
       "      <th></th>\n",
       "      <th>NAME</th>\n",
       "      <th>GENDER</th>\n",
       "      <th>POSITION</th>\n",
       "      <th>INSTITUTION</th>\n",
       "      <th>COUNTRY</th>\n",
       "      <th>STAR YEAR</th>\n",
       "      <th>END YEAR</th>\n",
       "      <th>AMOUNT</th>\n",
       "      <th>COMMENTS</th>\n",
       "    </tr>\n",
       "  </thead>\n",
       "  <tbody>\n",
       "    <tr>\n",
       "      <td>0</td>\n",
       "      <td>Alberto Abadie</td>\n",
       "      <td>MALE</td>\n",
       "      <td>Professor</td>\n",
       "      <td>Massachusetts Institute of Technology</td>\n",
       "      <td>NaN</td>\n",
       "      <td>2016.0</td>\n",
       "      <td>PRESENT</td>\n",
       "      <td>NaN</td>\n",
       "      <td>NaN</td>\n",
       "    </tr>\n",
       "    <tr>\n",
       "      <td>1</td>\n",
       "      <td>Alberto Abadie</td>\n",
       "      <td>MALE</td>\n",
       "      <td>Associate Director</td>\n",
       "      <td>Massachusetts Institute of Technology</td>\n",
       "      <td>NaN</td>\n",
       "      <td>2016.0</td>\n",
       "      <td>PRESENT</td>\n",
       "      <td>NaN</td>\n",
       "      <td>NaN</td>\n",
       "    </tr>\n",
       "    <tr>\n",
       "      <td>2</td>\n",
       "      <td>Alberto Abadie</td>\n",
       "      <td>MALE</td>\n",
       "      <td>Professor</td>\n",
       "      <td>Harvard University</td>\n",
       "      <td>NaN</td>\n",
       "      <td>2005.0</td>\n",
       "      <td>2016</td>\n",
       "      <td>NaN</td>\n",
       "      <td>NaN</td>\n",
       "    </tr>\n",
       "    <tr>\n",
       "      <td>3</td>\n",
       "      <td>Alberto Abadie</td>\n",
       "      <td>MALE</td>\n",
       "      <td>Visiting Professor</td>\n",
       "      <td>Harvard University</td>\n",
       "      <td>NaN</td>\n",
       "      <td>2013.0</td>\n",
       "      <td>2014</td>\n",
       "      <td>NaN</td>\n",
       "      <td>NaN</td>\n",
       "    </tr>\n",
       "    <tr>\n",
       "      <td>4</td>\n",
       "      <td>Alberto Abadie</td>\n",
       "      <td>MALE</td>\n",
       "      <td>Associate Professor</td>\n",
       "      <td>Harvard University</td>\n",
       "      <td>NaN</td>\n",
       "      <td>2004.0</td>\n",
       "      <td>2005</td>\n",
       "      <td>NaN</td>\n",
       "      <td>NaN</td>\n",
       "    </tr>\n",
       "    <tr>\n",
       "      <td>...</td>\n",
       "      <td>...</td>\n",
       "      <td>...</td>\n",
       "      <td>...</td>\n",
       "      <td>...</td>\n",
       "      <td>...</td>\n",
       "      <td>...</td>\n",
       "      <td>...</td>\n",
       "      <td>...</td>\n",
       "      <td>...</td>\n",
       "    </tr>\n",
       "    <tr>\n",
       "      <td>353</td>\n",
       "      <td>D. Chen</td>\n",
       "      <td>MALE</td>\n",
       "      <td>visiting professor</td>\n",
       "      <td>hebrew university</td>\n",
       "      <td>NaN</td>\n",
       "      <td>NaN</td>\n",
       "      <td>2013</td>\n",
       "      <td>NaN</td>\n",
       "      <td>NaN</td>\n",
       "    </tr>\n",
       "    <tr>\n",
       "      <td>354</td>\n",
       "      <td>D. Chen</td>\n",
       "      <td>MALE</td>\n",
       "      <td>fellow</td>\n",
       "      <td>University of chicago</td>\n",
       "      <td>NaN</td>\n",
       "      <td>2009.0</td>\n",
       "      <td>2010</td>\n",
       "      <td>NaN</td>\n",
       "      <td>NaN</td>\n",
       "    </tr>\n",
       "    <tr>\n",
       "      <td>355</td>\n",
       "      <td>D. Chen</td>\n",
       "      <td>MALE</td>\n",
       "      <td>fellow</td>\n",
       "      <td>University of chicago</td>\n",
       "      <td>NaN</td>\n",
       "      <td>2004.0</td>\n",
       "      <td>2006</td>\n",
       "      <td>NaN</td>\n",
       "      <td>NaN</td>\n",
       "    </tr>\n",
       "    <tr>\n",
       "      <td>356</td>\n",
       "      <td>D. Chen</td>\n",
       "      <td>MALE</td>\n",
       "      <td>fellow</td>\n",
       "      <td>university of california, los Angeles</td>\n",
       "      <td>NaN</td>\n",
       "      <td>NaN</td>\n",
       "      <td>2005</td>\n",
       "      <td>NaN</td>\n",
       "      <td>NaN</td>\n",
       "    </tr>\n",
       "    <tr>\n",
       "      <td>357</td>\n",
       "      <td>D. Chen</td>\n",
       "      <td>MALE</td>\n",
       "      <td>visitor</td>\n",
       "      <td>oxford uiversity</td>\n",
       "      <td>NaN</td>\n",
       "      <td>1999.0</td>\n",
       "      <td>2000</td>\n",
       "      <td>NaN</td>\n",
       "      <td>NaN</td>\n",
       "    </tr>\n",
       "  </tbody>\n",
       "</table>\n",
       "<p>358 rows × 9 columns</p>\n",
       "</div>"
      ],
      "text/plain": [
       "               NAME GENDER              POSITION  \\\n",
       "0    Alberto Abadie   MALE             Professor   \n",
       "1    Alberto Abadie   MALE    Associate Director   \n",
       "2    Alberto Abadie   MALE             Professor   \n",
       "3    Alberto Abadie   MALE   Visiting Professor    \n",
       "4    Alberto Abadie   MALE  Associate Professor    \n",
       "..              ...    ...                   ...   \n",
       "353         D. Chen   MALE    visiting professor   \n",
       "354         D. Chen   MALE                fellow   \n",
       "355         D. Chen   MALE                fellow   \n",
       "356         D. Chen   MALE                fellow   \n",
       "357         D. Chen   MALE               visitor   \n",
       "\n",
       "                               INSTITUTION COUNTRY  STAR YEAR END YEAR  \\\n",
       "0    Massachusetts Institute of Technology     NaN     2016.0  PRESENT   \n",
       "1    Massachusetts Institute of Technology     NaN     2016.0  PRESENT   \n",
       "2                      Harvard University      NaN     2005.0     2016   \n",
       "3                      Harvard University      NaN     2013.0     2014   \n",
       "4                      Harvard University      NaN     2004.0     2005   \n",
       "..                                     ...     ...        ...      ...   \n",
       "353                      hebrew university     NaN        NaN     2013   \n",
       "354                  University of chicago     NaN     2009.0     2010   \n",
       "355                  University of chicago     NaN     2004.0     2006   \n",
       "356  university of california, los Angeles     NaN        NaN     2005   \n",
       "357                      oxford uiversity      NaN     1999.0     2000   \n",
       "\n",
       "     AMOUNT COMMENTS  \n",
       "0       NaN      NaN  \n",
       "1       NaN      NaN  \n",
       "2       NaN      NaN  \n",
       "3       NaN      NaN  \n",
       "4       NaN      NaN  \n",
       "..      ...      ...  \n",
       "353     NaN      NaN  \n",
       "354     NaN      NaN  \n",
       "355     NaN      NaN  \n",
       "356     NaN      NaN  \n",
       "357     NaN      NaN  \n",
       "\n",
       "[358 rows x 9 columns]"
      ]
     },
     "execution_count": 5,
     "metadata": {},
     "output_type": "execute_result"
    }
   ],
   "source": [
    "df = pd.read_excel(\"Denisse_authors.xlsx\", sep=\"\\t\")\n",
    "df"
   ]
  },
  {
   "cell_type": "code",
   "execution_count": 16,
   "metadata": {},
   "outputs": [
    {
     "data": {
      "text/plain": [
       "'Jean Paul'"
      ]
     },
     "execution_count": 16,
     "metadata": {},
     "output_type": "execute_result"
    }
   ],
   "source": [
    "\"jean paul\".title()"
   ]
  },
  {
   "cell_type": "code",
   "execution_count": 22,
   "metadata": {
    "scrolled": false
   },
   "outputs": [
    {
     "name": "stdout",
     "output_type": "stream",
     "text": [
      "['3Ie', 'Accademia Dei Lincei', 'Alfred P. Sloan Foundation', 'American Automatic Control Council\\xa0', 'American Statistical Association', 'Applied Economics Research Bulletin', 'Australian National University', 'Banco De España', 'Barcelona Graduate School Of Economics', 'Bocconi University', 'Bocconi University', 'Boston University', 'Brigham Young University', 'Caltech', 'Cambrige University', 'Canada Council For The Arts Killam', 'Canada Council For The Arts Killam', 'Canadian Economics Association', 'Canadian Economics Association', 'Cemfi Madrid', 'Centro De Estudios Monetarios Y Fiancieros', 'Centro De Estudios Monetarios Y Financieros', 'Charles De Gaulle University – Lille Iii', 'Chinese Government', 'Cirano', 'Columbia University', 'Columbia University', 'Computational Statistics And Data Analysis', 'Copenhagen Business School', 'Cornell University', 'Crest Ensae', 'Danish Council', 'Danish Council ', 'Data Science Justice Collaboratory', 'Dfid', 'Duke University', 'Econometric Reviews', 'Econometric Society', 'Econometric Society', 'Econometric Society European Meeting', 'Econometric Society World Congress', 'Econometric Theory', 'Econometric Theory', 'Econometrica', 'Econometrics And Statistics', 'Econometrics Journal', 'Econometrics Journal', 'Econometrics Journal', 'Economic And Social Research Council', 'Economic And Social Research Council', 'Economics Bulletin', 'Electrical Engineering And Computer Science Department', 'Erc', 'Eth', 'European Research Council', 'F.M. Kirby Research Center ', 'French National Research Agency', 'Game Theory Society', 'Games And Economic Behavior', 'German Academic Exchange Service', 'Germanscholarsorganization', 'Harvard University', 'Hebrew University', 'Hebrew University Of Jerusalem', 'Hopkins University', 'Ibm', 'Impa', 'Institute For Pure And Applied Mathematics', 'Institute For The Study Of Labor', 'International Association For Applied Econometrics', 'Investigaciones Econ´Omicas, Moneda Y Cr´Edito', 'Jan Wallanders And Tom Hedelius Foundation', 'John Simon Guggenheim Memorial Foundation', 'Journal Of Bioeconomics', 'Journal Of Business And Economic Statistics', 'Journal Of Business And Economic Statistics', 'Journal Of Econometric Methods', 'Journal Of Econometrics', 'Journal Of Econometrics', 'Journal Of Econometrics Annals Issue', 'Journal Of Economic Literature', 'Journal Of Economic Theory', 'Journal Of Public Economic Theory', 'Journal Of The American Statistical Association', 'Journal Of Time Series Analysis', 'Journal Of Time Series Analysis ', \"Journal Of Time Series Analysis'\", 'Journal Of Transport, Economic And Policy', 'Laboratory For Information And Decision Systems', \"London'S Global University\", 'Louis Walinsky Fund In Economics', 'Massachusetts Institute Of Technology', 'Massachusetts Institute Of Technology', 'Massachusetts Institute Of Technology', 'Mcgill University', 'Microsoft', 'Microsoft Research', 'Middle East Technical University', 'Montgomery Blair High School', 'National Academy Of Sciences', 'National Bureau Of Economic Research', 'National Science Foundation', 'National Science Foundation', 'Nato Science', 'Nber', 'Net Institute', 'New York University', 'New York University Abu Dhabi', 'New Zealand Association Of Economists', 'Northeastern University', 'Northwestern University', 'Northwestern University', 'Northwestern University', 'Not A Journal Of Economics', 'Oxford Uiversity', 'Oxford University', 'Penn State University', 'Pontifical Catholic University', 'Princeton University', 'Provost', 'Quantitative Finance And Economics', 'Review Of Economic Studies', 'Review Of Economics And Statistics', 'Review Of Economics And Statistics', 'Royal Society Of Canada', 'Santa Fe Institute', 'Scandinavian Journal Of Statistics', 'Simon Fraser University', 'Simon Fraser University', 'Social Sciences And Humanities Research Council', 'Society For The Advancement Of Economic Theory', 'Spanish Economic Review.', 'Stanford University', 'Statistical Inference For Stochastic Processes', 'Stockholm School Of Economics', 'Summer Institute In Behavioral Economics', 'Swiss Federal Institute Of Techonology', 'Templeton Foundation', 'The Nykredit Foundation', 'Theoretical Economics', 'Tilburg University', 'Toulouse School Of Economics', 'Tse Digital Center', 'Universidad Del País Vasco', 'Universitat Konstanz ', 'Universitat Mannheim', 'Universitat Pompeu Fabra', 'University College London', 'University College London', 'University F California, San Diego', 'University Of Auckland', 'University Of Bergamo', 'University Of Birmingham', 'University Of British Columbia', 'University Of Calgary', 'University Of Calgary', 'University Of California At Berkeley', 'University Of California At San Diego', 'University Of California, Los Angeles', 'University Of California, San Diego', 'University Of Cambridge', 'University Of Chicago', 'University Of Chicago', 'University Of Chicago', 'University Of Chicago', 'University Of Chicago ', 'University Of Copenhagen', 'University Of Dortmund', 'University Of Dortmund', 'University Of Essex', 'University Of Kent', 'University Of Lille', 'University Of Mannheim', 'University Of Michigan', 'University Of Nottingham', 'University Of Oxford', 'University Of Pennsylvania', 'University Of Pennsylvania', 'University Of Pittsburgh', 'University Of Primorska', 'University Of Rochester', 'University Of Siena', 'University Of The Littoral Opal Coast', 'University Of Toulouse', 'University Of Toulouse', 'University Of Toulouse', 'University Of Toulouse', 'University Of Western', 'University Of Western Ontario', 'University Of Wisconsin, Madison', 'University Of Wisconsin,Madison', 'University Of York', 'University Paris Pantheon-Sorbonne', 'Universié De Montréal', 'Vanderbilt University', 'Victoria University Of Wellington', 'Victoria University Of Wellington', 'Vienna University Of Economics And Business', 'Western University', 'Xiamen University', 'Yale University', 'Yale University', 'York University', 'York University ', '\\xa0Journal Of Time Series Analysis', '\\xa0University Of Copenhagen']\n"
     ]
    }
   ],
   "source": [
    "ins = df[\"INSTITUTION\"].dropna()\n",
    "ins = list(set(ins))\n",
    "ins2 = []\n",
    "for i in ins:\n",
    "    ins2.append(i.title())\n",
    "ins3 = []\n",
    "for i in ins2:\n",
    "    if i[0]==\" \":\n",
    "        i = i[1:]\n",
    "    elif i[-1]==\" \":\n",
    "        i = i[:-1]\n",
    "    ins3.append(i)\n",
    "ins3.sort()\n",
    "print(ins3)"
   ]
  },
  {
   "cell_type": "code",
   "execution_count": 16,
   "metadata": {},
   "outputs": [],
   "source": [
    "positions = list(set(df[\"POSITION\"]))\n",
    "positions = [i for i in positions if len(i) > 4 and \",\" not in i] + [i.split(\",\")[0] for i in positions if \",\" in i]\n",
    "positions = set([i.strip() for i in positions])\n",
    "positions = set([i.lower() for i in positions])\n",
    "positions = list(positions)\n",
    "positions.sort()"
   ]
  },
  {
   "cell_type": "code",
   "execution_count": 18,
   "metadata": {},
   "outputs": [
    {
     "name": "stdout",
     "output_type": "stream",
     "text": [
      "['a.b.', 'academic visits', 'adjunct professor', 'adjunct research professor', 'affiliated professor', 'assistant editor', 'assistant professor', 'assistant professor in economics', 'associate director', 'associate editor', 'associate faculty', 'associate head', 'associate professor', 'award', 'b.a.', 'b.sc', 'ba', 'bachelor', 'book review editor', 'booth professor', 'bs', 'chair', 'co-editor', 'computer science magnet', 'diplom', 'directeur', 'director', 'editor-in-chief', 'editorial board', 'external examiner', 'faculty research fellow', 'fellow', 'fellowship', 'former associate editor', 'full professor', 'gastprofessor', 'grant', 'guest editor', 'instructor', 'invited editor', 'laurea', 'lecturer', 'm.a', 'm.a.', 'member', 'mphil', 'ms', 'msc', 'ph. d.', 'ph.d', 'ph.d.', 'postdoctoral researcher', 'prize', 'professor', 'professor of economics', 'project advisor', 'research assistant', 'research associate', 'research chair', 'research fellow', 'research fellowship', 'research professor', 's.m.', 'scholarship', 'senior lecturer', 'teaching assistant', 'university professor', 'visiting assistant professor', 'visiting fellow', 'visiting postdoctoral researcher', 'visiting professor', 'visiting research faculty', 'visiting research student', 'visiting scholar', 'visiting student', 'visitor']\n"
     ]
    }
   ],
   "source": [
    "print(positions)"
   ]
  },
  {
   "cell_type": "code",
   "execution_count": 17,
   "metadata": {},
   "outputs": [
    {
     "data": {
      "text/plain": [
       "[' associate professor ',\n",
       " ' b.sc',\n",
       " ' booth professor',\n",
       " ' visitor',\n",
       " 'A.B., applied Mathematics/economics',\n",
       " 'Academic Visits',\n",
       " 'Assistant Professor,\\xa0University of Copenhagen, 1996 to 1999\\xa0',\n",
       " 'Assistant professor ',\n",
       " 'Associate Director',\n",
       " 'Associate Editor',\n",
       " 'Associate Editor ',\n",
       " 'Associate Professor',\n",
       " 'Associate Professor ',\n",
       " 'Award',\n",
       " 'B.A., Economics',\n",
       " 'Chair',\n",
       " 'Co-editor',\n",
       " 'Directeur ',\n",
       " 'External Examiner ',\n",
       " 'Faculty Research Fellow',\n",
       " 'Fellow',\n",
       " 'Fellowship',\n",
       " 'Former Associate Editor ',\n",
       " 'J.D.',\n",
       " 'M.A., Economics',\n",
       " 'MS, Mathematical Economics',\n",
       " 'Msc, arts',\n",
       " 'Ph.D.,  Economics',\n",
       " 'Ph.d',\n",
       " 'Professor',\n",
       " 'Project Advisor',\n",
       " 'Research Associate ',\n",
       " 'Research Fellow',\n",
       " 'Research Fellowship',\n",
       " 'S.m., applied Mathematics/economics',\n",
       " 'SM',\n",
       " 'ScD',\n",
       " 'Senior Lecturer ',\n",
       " 'Visiting Assistant Professor ',\n",
       " 'Visiting Professor ',\n",
       " 'Visiting Research Faculty',\n",
       " 'Visiting student',\n",
       " 'Visitor',\n",
       " 'adjunct professor',\n",
       " 'adjunct research professor',\n",
       " 'affiliated professor',\n",
       " 'assistant editor',\n",
       " 'assistant professor',\n",
       " 'assistant professor in economics',\n",
       " 'associate editor',\n",
       " 'associate faculty ',\n",
       " 'associate head',\n",
       " 'associate professor',\n",
       " 'associate professor ',\n",
       " 'award',\n",
       " 'award ',\n",
       " 'b.a.,  economics',\n",
       " 'b.a., economics',\n",
       " 'ba, management science',\n",
       " 'bachelor, arts',\n",
       " 'book review editor',\n",
       " 'bs, EE',\n",
       " 'bs,electrical engineering',\n",
       " 'chair',\n",
       " 'co-editor',\n",
       " 'computer science magnet',\n",
       " 'diplom, statistics',\n",
       " 'director',\n",
       " 'editor-in-chief',\n",
       " 'editorial board',\n",
       " 'external examiner',\n",
       " 'fellow',\n",
       " 'fellow ',\n",
       " 'fellowship',\n",
       " 'fellowship ',\n",
       " 'full professor',\n",
       " 'gastprofessor',\n",
       " 'grant',\n",
       " 'grant ',\n",
       " 'guest editor',\n",
       " 'head',\n",
       " 'instructor',\n",
       " 'invited editor',\n",
       " 'laurea,economics',\n",
       " 'lecturer ',\n",
       " 'm.a, economics',\n",
       " 'member',\n",
       " 'mphil',\n",
       " 'msc, statistic',\n",
       " 'ph. D., economics',\n",
       " 'ph.d, economics',\n",
       " 'ph.d,operations research',\n",
       " 'ph.d.,  economics',\n",
       " 'ph.d., economics',\n",
       " 'ph.d., philosophy',\n",
       " 'ph.d., pure mathematics',\n",
       " 'postdoctoral researcher',\n",
       " 'prize',\n",
       " 'professor',\n",
       " 'professor ',\n",
       " 'professor of economics',\n",
       " 'research assistant',\n",
       " 'research chair ',\n",
       " 'research fellow',\n",
       " 'research professor',\n",
       " 'scholarship',\n",
       " 'teaching assistant',\n",
       " 'university professor',\n",
       " 'visiting fellow',\n",
       " 'visiting postdoctoral researcher',\n",
       " 'visiting professor',\n",
       " 'visiting professor ',\n",
       " 'visiting research student',\n",
       " 'visiting scholar',\n",
       " 'visiting student',\n",
       " 'visitor']"
      ]
     },
     "execution_count": 17,
     "metadata": {},
     "output_type": "execute_result"
    }
   ],
   "source": [
    "wd=list(set(df[\"POSITION\"]))\n",
    "wd.sort()\n",
    "wd"
   ]
  },
  {
   "cell_type": "code",
   "execution_count": 15,
   "metadata": {
    "scrolled": true
   },
   "outputs": [
    {
     "data": {
      "text/plain": [
       "['a.b.',\n",
       " 'academic visits',\n",
       " 'adjunct professor',\n",
       " 'adjunct research professor',\n",
       " 'affiliated professor',\n",
       " 'assistant editor',\n",
       " 'assistant professor',\n",
       " 'assistant professor in economics',\n",
       " 'associate director',\n",
       " 'associate editor',\n",
       " 'associate faculty',\n",
       " 'associate head',\n",
       " 'associate professor',\n",
       " 'award',\n",
       " 'b.a.',\n",
       " 'b.sc',\n",
       " 'ba',\n",
       " 'bachelor',\n",
       " 'book review editor',\n",
       " 'booth professor',\n",
       " 'bs',\n",
       " 'chair',\n",
       " 'co-editor',\n",
       " 'computer science magnet',\n",
       " 'diplom',\n",
       " 'directeur',\n",
       " 'director',\n",
       " 'editor-in-chief',\n",
       " 'editorial board',\n",
       " 'external examiner',\n",
       " 'faculty research fellow',\n",
       " 'fellow',\n",
       " 'fellowship',\n",
       " 'former associate editor',\n",
       " 'full professor',\n",
       " 'gastprofessor',\n",
       " 'grant',\n",
       " 'guest editor',\n",
       " 'instructor',\n",
       " 'invited editor',\n",
       " 'laurea',\n",
       " 'lecturer',\n",
       " 'm.a',\n",
       " 'm.a.',\n",
       " 'member',\n",
       " 'mphil',\n",
       " 'ms',\n",
       " 'msc',\n",
       " 'ph. d.',\n",
       " 'ph.d',\n",
       " 'ph.d.',\n",
       " 'postdoctoral researcher',\n",
       " 'prize',\n",
       " 'professor',\n",
       " 'professor of economics',\n",
       " 'project advisor',\n",
       " 'research assistant',\n",
       " 'research associate',\n",
       " 'research chair',\n",
       " 'research fellow',\n",
       " 'research fellowship',\n",
       " 'research professor',\n",
       " 's.m.',\n",
       " 'scholarship',\n",
       " 'senior lecturer',\n",
       " 'teaching assistant',\n",
       " 'university professor',\n",
       " 'visiting assistant professor',\n",
       " 'visiting fellow',\n",
       " 'visiting postdoctoral researcher',\n",
       " 'visiting professor',\n",
       " 'visiting research faculty',\n",
       " 'visiting research student',\n",
       " 'visiting scholar',\n",
       " 'visiting student',\n",
       " 'visitor']"
      ]
     },
     "execution_count": 15,
     "metadata": {},
     "output_type": "execute_result"
    }
   ],
   "source": [
    "positions"
   ]
  },
  {
   "cell_type": "code",
   "execution_count": 61,
   "metadata": {
    "scrolled": false
   },
   "outputs": [
    {
     "data": {
      "text/plain": [
       "['a.b.',\n",
       " 'assistant professor',\n",
       " 'b.a.',\n",
       " 'b.a.',\n",
       " 'ba',\n",
       " 'bachelor',\n",
       " 'bs',\n",
       " 'bs',\n",
       " 'diplom',\n",
       " 'laurea',\n",
       " 'm.a',\n",
       " 'm.a.',\n",
       " 'ms',\n",
       " 'msc',\n",
       " 'msc',\n",
       " 'ph. d.',\n",
       " 'ph.d',\n",
       " 'ph.d',\n",
       " 'ph.d.',\n",
       " 'ph.d.',\n",
       " 'ph.d.',\n",
       " 'ph.d.',\n",
       " 's.m.']"
      ]
     },
     "execution_count": 61,
     "metadata": {},
     "output_type": "execute_result"
    }
   ],
   "source": [
    "p = [i.split(\",\")[0] for i in positions if \",\" in i]\n",
    "p"
   ]
  },
  {
   "cell_type": "code",
   "execution_count": 25,
   "metadata": {},
   "outputs": [
    {
     "name": "stdout",
     "output_type": "stream",
     "text": [
      "vale harta esta vaina\n"
     ]
    }
   ],
   "source": [
    "dir1 = \"./aer_data/\"\n",
    "try:\n",
    "    for i in os.listdir(dir1):\n",
    "        dir2 = \"{}{}\".format(dir1, i)\n",
    "        L = os.listdir(dir2)\n",
    "        if len(L)>0:\n",
    "            for j in L:\n",
    "                dir3 = \"{}/{}\".format(dir2, j)\n",
    "                os.remove(dir3)\n",
    "except (PermissionError):\n",
    "    print(\"vale harta esta vaina\")"
   ]
  },
  {
   "cell_type": "code",
   "execution_count": 12,
   "metadata": {},
   "outputs": [
    {
     "ename": "PermissionError",
     "evalue": "[WinError 5] Acceso denegado: './aer_data/Adam  Szeidl'",
     "output_type": "error",
     "traceback": [
      "\u001b[1;31m---------------------------------------------------------------------------\u001b[0m",
      "\u001b[1;31mPermissionError\u001b[0m                           Traceback (most recent call last)",
      "\u001b[1;32m<ipython-input-12-cc8bc0287e67>\u001b[0m in \u001b[0;36m<module>\u001b[1;34m\u001b[0m\n\u001b[0;32m      4\u001b[0m     \u001b[0mL\u001b[0m \u001b[1;33m=\u001b[0m \u001b[0mos\u001b[0m\u001b[1;33m.\u001b[0m\u001b[0mlistdir\u001b[0m\u001b[1;33m(\u001b[0m\u001b[0mdir2\u001b[0m\u001b[1;33m)\u001b[0m\u001b[1;33m\u001b[0m\u001b[1;33m\u001b[0m\u001b[0m\n\u001b[0;32m      5\u001b[0m     \u001b[1;32mif\u001b[0m \u001b[0mlen\u001b[0m\u001b[1;33m(\u001b[0m\u001b[0mL\u001b[0m\u001b[1;33m)\u001b[0m\u001b[1;33m==\u001b[0m\u001b[1;36m0\u001b[0m\u001b[1;33m:\u001b[0m\u001b[1;33m\u001b[0m\u001b[1;33m\u001b[0m\u001b[0m\n\u001b[1;32m----> 6\u001b[1;33m         \u001b[0mos\u001b[0m\u001b[1;33m.\u001b[0m\u001b[0mremove\u001b[0m\u001b[1;33m(\u001b[0m\u001b[0mdir2\u001b[0m\u001b[1;33m)\u001b[0m\u001b[1;33m\u001b[0m\u001b[1;33m\u001b[0m\u001b[0m\n\u001b[0m",
      "\u001b[1;31mPermissionError\u001b[0m: [WinError 5] Acceso denegado: './aer_data/Adam  Szeidl'"
     ]
    }
   ],
   "source": [
    "dir1 = \"./aer_data/\"\n",
    "for i in os.listdir(dir1):\n",
    "    dir2 = \"{}{}\".format(dir1, i)\n",
    "    L = os.listdir(dir2)\n",
    "    if len(L)==0:\n",
    "        os.remove(dir2)"
   ]
  },
  {
   "cell_type": "code",
   "execution_count": 15,
   "metadata": {},
   "outputs": [
    {
     "name": "stderr",
     "output_type": "stream",
     "text": [
      "WARNING:root:Cannot locate objid=175\n"
     ]
    }
   ],
   "source": [
    "cad = str(convert_pdf(\"./aer/Alexandre  Mas/ES_Mallika_Thomas_Resume.pdf\"))"
   ]
  },
  {
   "cell_type": "code",
   "execution_count": 26,
   "metadata": {},
   "outputs": [
    {
     "data": {
      "text/plain": [
       "['Adam  Szeidl',\n",
       " 'Adriaan  Soetevent',\n",
       " 'Alain  de Janvry',\n",
       " 'Alex  Edmans',\n",
       " 'Alexander  Wolitzky',\n",
       " 'Alexandre  Mas',\n",
       " 'Alireza  Tahbaz-Salehi',\n",
       " 'Alistair James Wilson',\n",
       " 'Alvin E. Roth',\n",
       " 'Anat  Bracha',\n",
       " 'Andrea  Isoni',\n",
       " 'Andreas  Hornstein',\n",
       " 'Andrew  Ellis',\n",
       " 'Andrew Kenan Rose',\n",
       " 'Andrew Theo Levin',\n",
       " 'Anil K Kashyap',\n",
       " 'Antonio  Cabrales',\n",
       " 'Antonio  Penta',\n",
       " 'Antonio  Spilimbergo',\n",
       " 'Ariel Tomas Burstein',\n",
       " 'Arno  Riedl',\n",
       " 'Arthur John Robson',\n",
       " 'Avinash Kamalakar Dixit',\n",
       " 'Barton  Lipman',\n",
       " 'Brent  Neiman',\n",
       " 'Brian  McCaig',\n",
       " 'Brian R. Copeland',\n",
       " 'Brigitte C. Madrian',\n",
       " 'Bruce D. Meyer',\n",
       " 'Carl  Shapiro',\n",
       " 'Catherine C Eckel',\n",
       " 'Cathy M. Zhang',\n",
       " 'Chad  Syverson',\n",
       " 'Charles  Noussair',\n",
       " 'Charles A. Holt',\n",
       " 'Cristian  Pop-Eleches',\n",
       " 'Curtis R. Taylor',\n",
       " 'Daan  van Soest',\n",
       " 'Dan A. Black',\n",
       " 'Daniel  Kahneman',\n",
       " 'Daniel John Wilson',\n",
       " 'David J Deming',\n",
       " 'David Malin Roodman',\n",
       " 'David S. Rapson',\n",
       " 'David W. Harless',\n",
       " 'Dayanand  Manoli',\n",
       " 'Dennis  Epple',\n",
       " 'Douglas W. Diamond',\n",
       " 'Edmund Stuart Cannon',\n",
       " 'Edward  Herbst',\n",
       " 'Emel  Filiz Ozbay',\n",
       " 'Emily  Oster',\n",
       " 'Eric  Fisher',\n",
       " 'Eric  Rosengren',\n",
       " 'Eric A. Hanushek',\n",
       " 'Eric Donald Johnson',\n",
       " 'Erich  Battistin',\n",
       " 'Erik  Hurst',\n",
       " 'Esteban Matias Aucejo',\n",
       " 'Etienne  Gagnon',\n",
       " 'Farley  Grubb',\n",
       " 'Felix  Vardy',\n",
       " 'Filip  Matejka',\n",
       " 'Francesco  Caselli',\n",
       " 'Francesco  Lippi',\n",
       " 'Francesco  Trebbi',\n",
       " 'Francine  Blau',\n",
       " 'Francis X. Diebold',\n",
       " 'Franck  Portier',\n",
       " 'Francois  Gourio',\n",
       " 'Gaaitzen J. de Vries',\n",
       " 'Gabriele  Camera',\n",
       " 'Gene  Grossman',\n",
       " 'Geoffroy  de Clippel',\n",
       " 'Georg  Schaur',\n",
       " 'George A. Akerlof',\n",
       " 'Giancarlo  Corsetti',\n",
       " 'Gilles  Saint-Paul',\n",
       " 'Giorgio  Topa',\n",
       " 'Giovanni  Maggi',\n",
       " 'Gordon B. Dahl',\n",
       " 'Guido  Lorenzoni',\n",
       " 'Guillaume  Vandenbroucke',\n",
       " 'Gustavo J. Bobonis',\n",
       " 'Hanan  Jacoby',\n",
       " 'Hanno  Lustig',\n",
       " 'Hans  Degryse',\n",
       " 'Heather North Royer',\n",
       " 'Henning  Bohn',\n",
       " 'Henry E. Siu',\n",
       " 'Howard William Smith',\n",
       " 'Hui  Tong',\n",
       " 'Isa  Hafalir',\n",
       " 'J. Michelle  Brock',\n",
       " 'Jae  Song',\n",
       " 'James  Bullard',\n",
       " 'James (Jim) Clarence MacGee',\n",
       " 'James P. Ziliak',\n",
       " 'Jean M. Imbs',\n",
       " 'Jeffrey P. Clemens',\n",
       " 'Jeffrey Richard Kling',\n",
       " 'Jeremy C. Stein',\n",
       " 'John  Duffy',\n",
       " 'John  Leahy',\n",
       " 'John  Morgan',\n",
       " 'John C. Driscoll',\n",
       " 'John C. Williams',\n",
       " 'John H. Cochrane',\n",
       " 'John Mark Ramseyer',\n",
       " 'John Y. Campbell',\n",
       " 'Jon  Wongswan',\n",
       " 'Jonas D.M. Fisher',\n",
       " 'Joshua D. Gottlieb',\n",
       " 'Joshua Kautsky Hausman',\n",
       " 'Juan M. Sanchez',\n",
       " 'Jules Hans van Binsbergen',\n",
       " 'Justin R. Pierce',\n",
       " 'Katarzyna Anna Bilicka',\n",
       " 'Katherine  Eriksson',\n",
       " 'Katrin  Tinn',\n",
       " 'Kei-Mu  Yi',\n",
       " 'Kenneth  Kasa',\n",
       " 'Kenneth S Rogoff',\n",
       " 'Klaus  Abbink',\n",
       " 'Kurt  Mitman',\n",
       " 'Lars  Lefgren',\n",
       " 'Laura  Alfaro',\n",
       " 'Laura  Kawano',\n",
       " 'Lawrence David Warren Schmidt',\n",
       " 'Leonardo  Martinez',\n",
       " 'Leslie  Marx',\n",
       " 'Leslie  Young',\n",
       " 'Levon  Barseghyan',\n",
       " 'Lu  Zhang',\n",
       " 'Luigi  Zingales',\n",
       " 'Manuela  Angelucci',\n",
       " 'Marc  Ivaldi',\n",
       " 'Marco  Gonzalez-Navarro',\n",
       " 'Maria  Guadalupe',\n",
       " 'Mariagiovanna  Baccara',\n",
       " 'Marika Ilona Cabral',\n",
       " 'Marius  Schwartz',\n",
       " 'Mark  Huggett',\n",
       " 'Mark  Wright',\n",
       " 'Markus K. Brunnermeier',\n",
       " 'Martin  Ravallion',\n",
       " 'Matthew  Turner',\n",
       " 'Matthew Buford Canzoneri',\n",
       " 'Matthew D. Shapiro',\n",
       " 'Melvin  Stephens, Jr.',\n",
       " 'Michael  Elsby',\n",
       " 'Michael  Kumhof',\n",
       " 'Michael  Ostrovsky',\n",
       " 'Michael E. Waugh',\n",
       " 'Michael R. Veall',\n",
       " 'Ming  Huang',\n",
       " 'Monica  Martinez-Bravo',\n",
       " 'Monika  Merz',\n",
       " 'Morten Overgaard Ravn',\n",
       " 'Nicholas Z. Muller',\n",
       " 'Olivier  Compte',\n",
       " 'Olivier J Blanchard',\n",
       " 'Pablo  Winant',\n",
       " 'Paul  Milgrom',\n",
       " 'Paulo  Bastos',\n",
       " 'Peter  Howitt',\n",
       " 'Peter M. DeMarzo',\n",
       " 'Philip J. Reny',\n",
       " 'Pierre  Dubois',\n",
       " 'Pietro  Ortoleva',\n",
       " 'Raghuram G. Rajan',\n",
       " 'Raj  Chetty',\n",
       " 'Ran  Spiegler',\n",
       " 'Raymond  Fisman',\n",
       " 'Rhys  Bidder',\n",
       " 'Ricardo  Alonso',\n",
       " 'Robert  Inklaar',\n",
       " 'Robert B Barsky',\n",
       " 'Robert Exley Mccormick',\n",
       " 'Roberto Mantaro Samaniego',\n",
       " 'Rocco  Macchiavello',\n",
       " 'Roger  Hartley',\n",
       " 'Ross  Levine',\n",
       " 'Ruben  Enikolopov',\n",
       " 'Santiago  Oliveros',\n",
       " 'Santosh Shrikant Anagol',\n",
       " 'Satyajit  Chatterjee',\n",
       " 'Serena  Ng',\n",
       " 'Sergio T Rebelo',\n",
       " 'Shaun  Hargreaves Heap',\n",
       " 'Shingo  Ishiguro',\n",
       " 'Simon  Mongey',\n",
       " 'Spencer  Banzhaf',\n",
       " 'Stefan  Bender',\n",
       " 'Stefanie  Stantcheva',\n",
       " 'Stephanie  Wang',\n",
       " 'Stephen James Redding',\n",
       " 'Stephen P. Holland',\n",
       " 'Stuart S. Rosenthal',\n",
       " 'Susan K. Laury',\n",
       " 'Susann  Rohwedder',\n",
       " 'Susanto  Basu',\n",
       " 'Thomas  Davidoff',\n",
       " 'Thomas  Nechyba',\n",
       " 'Thomas  Piketty',\n",
       " 'Thomas J. Kniesner',\n",
       " 'Thomas J. Sargent',\n",
       " 'Till Marco von Wachter',\n",
       " 'Timothy Guy Conley',\n",
       " 'Todd R. Kaplan',\n",
       " 'Tomasz  Strzalecki',\n",
       " 'Toshihiko  Mukoyama',\n",
       " 'Valerie Ann Ramey',\n",
       " 'Vernon L. Smith',\n",
       " 'Vikesh  Amin',\n",
       " 'Vitor  Trindade',\n",
       " 'W. Bentley  Macleod',\n",
       " 'W. David  Bradford',\n",
       " 'Xavier  Gine',\n",
       " 'Xavier  Mateos-Planas',\n",
       " 'Yoram  Weiss',\n",
       " 'Yusufcan  Masatlioglu']"
      ]
     },
     "execution_count": 26,
     "metadata": {},
     "output_type": "execute_result"
    }
   ],
   "source": [
    "os.listdir(\"./aer/\")"
   ]
  },
  {
   "cell_type": "code",
   "execution_count": null,
   "metadata": {},
   "outputs": [],
   "source": []
  }
 ],
 "metadata": {
  "kernelspec": {
   "display_name": "Python 3",
   "language": "python",
   "name": "python3"
  },
  "language_info": {
   "codemirror_mode": {
    "name": "ipython",
    "version": 3
   },
   "file_extension": ".py",
   "mimetype": "text/x-python",
   "name": "python",
   "nbconvert_exporter": "python",
   "pygments_lexer": "ipython3",
   "version": "3.8.5"
  }
 },
 "nbformat": 4,
 "nbformat_minor": 2
}
